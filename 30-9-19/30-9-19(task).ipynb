{
 "cells": [
  {
   "cell_type": "markdown",
   "metadata": {},
   "source": [
    " ## print a list and a dictionary of square of numbers between 1 and 15 (both included) "
   ]
  },
  {
   "cell_type": "code",
   "execution_count": 6,
   "metadata": {},
   "outputs": [
    {
     "name": "stdout",
     "output_type": "stream",
     "text": [
      "1\n",
      "15\n",
      "{1: 1, 2: 4, 3: 9, 4: 16, 5: 25, 6: 36, 7: 49, 8: 64, 9: 81, 10: 100, 11: 121, 12: 144, 13: 169, 14: 196, 15: 225}\n",
      "[1, 4, 9, 16, 25, 36, 49, 64, 81, 100, 121, 144, 169, 196, 225]\n"
     ]
    }
   ],
   "source": [
    "a={}\n",
    "k=[]\n",
    "l=int(input())\n",
    "u=int(input())\n",
    "for i in range(1,u+1):                       \n",
    "    a[i]=i**2\n",
    "    k.append(i**2)\n",
    "print(a)\n",
    "print(k)"
   ]
  },
  {
   "cell_type": "markdown",
   "metadata": {},
   "source": [
    "### Take 10 integer inputs from user and store them in a list and print them on screen."
   ]
  },
  {
   "cell_type": "code",
   "execution_count": 17,
   "metadata": {},
   "outputs": [
    {
     "name": "stdout",
     "output_type": "stream",
     "text": [
      "10\n",
      "9\n",
      "7\n",
      "8\n",
      "6\n",
      "5\n",
      "4\n",
      "3\n",
      "2\n",
      "1\n",
      "4\n",
      "[9, 7, 8, 6, 5, 4, 3, 2, 1, 4]\n"
     ]
    }
   ],
   "source": [
    "l=[]\n",
    "n=int(input())\n",
    "for i in range(1,n+1):\n",
    "    s=int(input())\n",
    "    l.append(s)\n",
    "print(l)"
   ]
  },
  {
   "cell_type": "markdown",
   "metadata": {},
   "source": [
    "### l=[1,5,7,3,2,4,5,9],print list of all even numbers from the given list "
   ]
  },
  {
   "cell_type": "code",
   "execution_count": 39,
   "metadata": {},
   "outputs": [
    {
     "name": "stdout",
     "output_type": "stream",
     "text": [
      "[2, 4]\n"
     ]
    }
   ],
   "source": [
    "l=[1,5,7,3,2,4,5,9]\n",
    "k=[]\n",
    "for i in range(0,len(l)):\n",
    "    if(l[i]%2==0):\n",
    "        k.append(l[i])\n",
    "print(k)       "
   ]
  },
  {
   "cell_type": "markdown",
   "metadata": {},
   "source": [
    "### Ask user to give name and marks of 10 different students. Store them in dictionary."
   ]
  },
  {
   "cell_type": "code",
   "execution_count": 41,
   "metadata": {},
   "outputs": [
    {
     "name": "stdout",
     "output_type": "stream",
     "text": [
      "10\n",
      "divya\n",
      "82\n",
      "thanu\n",
      "95\n",
      "thulasi\n",
      "93\n",
      "lakshmi\n",
      "90\n",
      "revathi\n",
      "89\n",
      "cherry\n",
      "91\n",
      "sravs\n",
      "92\n",
      "fari\n",
      "80\n",
      "divyasree\n",
      "87\n",
      "uma\n",
      "85\n",
      "{'divya': 82, 'thanu': 95, 'thulasi': 93, 'lakshmi': 90, 'revathi': 89, 'cherry': 91, 'sravs': 92, 'fari': 80, 'divyasree': 87, 'uma': 85}\n"
     ]
    }
   ],
   "source": [
    "g={}\n",
    "n=int(input())\n",
    "for i in range(1,n+1):\n",
    "    s=input()\n",
    "    x=int(input())\n",
    "    g[s]=x\n",
    "print(g)"
   ]
  },
  {
   "cell_type": "markdown",
   "metadata": {},
   "source": [
    "### .Sort the dictionary created in previous example according to marks."
   ]
  },
  {
   "cell_type": "code",
   "execution_count": 108,
   "metadata": {},
   "outputs": [
    {
     "name": "stdout",
     "output_type": "stream",
     "text": [
      "('fari', 80)\n",
      "('divya', 82)\n",
      "('uma', 85)\n",
      "('divyasree', 87)\n",
      "('revathi', 89)\n",
      "('lakshmi', 90)\n",
      "('cherry', 91)\n",
      "('sravs', 92)\n",
      "('thulasi', 93)\n",
      "('thanu', 95)\n"
     ]
    }
   ],
   "source": [
    " for i in g:\n",
    "    print(i)"
   ]
  },
  {
   "cell_type": "markdown",
   "metadata": {},
   "source": [
    "### .Sort the dictionary created in previous example according to marks."
   ]
  },
  {
   "cell_type": "code",
   "execution_count": 4,
   "metadata": {},
   "outputs": [
    {
     "name": "stdout",
     "output_type": "stream",
     "text": [
      "3\n",
      "45\n",
      "d\n",
      "13\n",
      "e\n",
      "5\n",
      "f\n",
      "{45: 'd', 13: 'e', 5: 'f'}\n",
      "5 : f\n",
      "13 : e\n",
      "45 : d\n"
     ]
    }
   ],
   "source": [
    "d={}\n",
    "n=int(input())\n",
    "for i in range(1,n+1):\n",
    "    s=int(input())\n",
    "    x=input()\n",
    "    d[s]=x\n",
    "print(d)\n",
    "c=sorted(d.keys())\n",
    "for i in c:\n",
    "    print(i,\":\",d[i])"
   ]
  },
  {
   "cell_type": "markdown",
   "metadata": {},
   "source": [
    "### Count the number of occurrence of each letter in word \"MISSISSIPPI\". \n",
    "### Store count of every letter with the letter in a dictionary."
   ]
  },
  {
   "cell_type": "code",
   "execution_count": 23,
   "metadata": {},
   "outputs": [
    {
     "name": "stdout",
     "output_type": "stream",
     "text": [
      "{'M': 1, 'I': 4, 'S': 4, 'P': 2}\n"
     ]
    }
   ],
   "source": [
    "s=\"MISSISSIPPI\"\n",
    "a={}\n",
    "for i in s:\n",
    "    a[i]=s.count(i)\n",
    "print(a)\n"
   ]
  },
  {
   "cell_type": "markdown",
   "metadata": {},
   "source": [
    "### .From the previous question, sort according to the number of letters."
   ]
  },
  {
   "cell_type": "code",
   "execution_count": 25,
   "metadata": {},
   "outputs": [
    {
     "name": "stdout",
     "output_type": "stream",
     "text": [
      "{'M': 1, 'I': 4, 'S': 4, 'P': 2}\n",
      "I : 4\n",
      "M : 1\n",
      "P : 2\n",
      "S : 4\n"
     ]
    }
   ],
   "source": [
    "print(a)\n",
    "v=sorted(a.keys())\n",
    "for j in v:\n",
    "    print(j,\":\",a[j])"
   ]
  },
  {
   "cell_type": "markdown",
   "metadata": {},
   "source": [
    "### .Use dictionary to store antonyms of words. "
   ]
  },
  {
   "cell_type": "code",
   "execution_count": 1,
   "metadata": {},
   "outputs": [
    {
     "name": "stdout",
     "output_type": "stream",
     "text": [
      "['right', 'up', 'push']\n",
      "up\n",
      "down\n"
     ]
    }
   ],
   "source": [
    "f={\"right\":\"left\",\"up\":\"down\",\"push\":\"pop\"}\n",
    "print(list(f.keys()))\n",
    "n=input()\n",
    "print(f[n])"
   ]
  },
  {
   "cell_type": "code",
   "execution_count": 50,
   "metadata": {},
   "outputs": [],
   "source": [
    "#### Take 10 integer inputs from user and print the following:\n",
    "#### number of positive numbers\n",
    "#### number of negative numbers\n",
    "#### number of odd numbers\n",
    "#### number of even numbers\n",
    "#### number of 0s.using dictionaries"
   ]
  },
  {
   "cell_type": "code",
   "execution_count": 2,
   "metadata": {},
   "outputs": [
    {
     "name": "stdout",
     "output_type": "stream",
     "text": [
      "2\n",
      "3\n",
      "4\n",
      "5\n",
      "6\n",
      "7\n",
      "8\n",
      "9\n",
      "0\n",
      "-5\n",
      "{'p': 8, 'n': 1, 'e': 4, 'o': 5, 'z': 1}\n"
     ]
    }
   ],
   "source": [
    "l=[]\n",
    "for i in range(1,11):\n",
    "    n=int(input())\n",
    "    l.append(n)\n",
    "d={'p':0,'n':0,'e':0,'o':0,'z':0}\n",
    "for j in l:\n",
    "    if j>0:\n",
    "        d['p']+=1\n",
    "        if j%2==0:\n",
    "            d['e']+=1\n",
    "        else:\n",
    "            d['o']+=1\n",
    "    elif j<0:\n",
    "        d['n']+=1\n",
    "        if j%2==0:\n",
    "            d['e']+=1\n",
    "        else:\n",
    "            d['o']+=1\n",
    "    elif j==0:\n",
    "        d['z']+=1\n",
    "print(d)        "
   ]
  },
  {
   "cell_type": "markdown",
   "metadata": {},
   "source": [
    "# "
   ]
  }
 ],
 "metadata": {
  "kernelspec": {
   "display_name": "Python 3",
   "language": "python",
   "name": "python3"
  },
  "language_info": {
   "codemirror_mode": {
    "name": "ipython",
    "version": 3
   },
   "file_extension": ".py",
   "mimetype": "text/x-python",
   "name": "python",
   "nbconvert_exporter": "python",
   "pygments_lexer": "ipython3",
   "version": "3.7.3"
  }
 },
 "nbformat": 4,
 "nbformat_minor": 2
}
