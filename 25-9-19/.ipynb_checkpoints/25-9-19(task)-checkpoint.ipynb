{
 "cells": [
  {
   "cell_type": "markdown",
   "metadata": {},
   "source": [
    "### generate n odd armstrong numbers"
   ]
  },
  {
   "cell_type": "code",
   "execution_count": 20,
   "metadata": {},
   "outputs": [
    {
     "name": "stdout",
     "output_type": "stream",
     "text": [
      "153\n",
      "armstrong 153\n",
      "odd\n"
     ]
    }
   ],
   "source": [
    "def oddarmstrong(lb):\n",
    "    s=0\n",
    "    m=lb\n",
    "    while(lb!=0):\n",
    "        a=lb%10\n",
    "        s=s+a**3\n",
    "        lb=lb//10\n",
    "    if(s==m):\n",
    "        print(\"armstrong\",s)\n",
    "        if(s%2!=0):\n",
    "            print(\"odd\")\n",
    "lb=int(input())\n",
    "oddarmstrong(lb)\n",
    "        \n",
    "    "
   ]
  },
  {
   "cell_type": "markdown",
   "metadata": {},
   "source": [
    "### even numbers in given range"
   ]
  },
  {
   "cell_type": "code",
   "execution_count": 7,
   "metadata": {},
   "outputs": [
    {
     "name": "stdout",
     "output_type": "stream",
     "text": [
      "30\n",
      "40\n",
      "30\n",
      "32\n",
      "34\n",
      "36\n",
      "38\n",
      "40\n"
     ]
    }
   ],
   "source": [
    "def even(lb):\n",
    "        if(lb%2==0):\n",
    "            return 1\n",
    "        else:\n",
    "            return 0\n",
    "lb=int(input())\n",
    "ub=int(input())\n",
    "for i in range(lb,ub+1):\n",
    "    if even(i)==1:\n",
    "        print(i)\n",
    "    "
   ]
  },
  {
   "cell_type": "markdown",
   "metadata": {},
   "source": [
    "### sum of perfect numbers in given range"
   ]
  },
  {
   "cell_type": "code",
   "execution_count": 17,
   "metadata": {},
   "outputs": [
    {
     "name": "stdout",
     "output_type": "stream",
     "text": [
      "2\n",
      "8\n",
      "1\n"
     ]
    }
   ],
   "source": [
    "def perfect(lb):\n",
    "    s=0\n",
    "    for i in range(1,lb):\n",
    "        if(lb%i==0):\n",
    "            s=s+i\n",
    "            print(s)\n",
    "    if(s==lb):\n",
    "        print(\"perfect\")\n",
    "lb=int(input())\n",
    "ub=int(input())\n",
    "perfect(lb)        "
   ]
  },
  {
   "cell_type": "code",
   "execution_count": null,
   "metadata": {},
   "outputs": [],
   "source": []
  },
  {
   "cell_type": "code",
   "execution_count": null,
   "metadata": {},
   "outputs": [],
   "source": []
  }
 ],
 "metadata": {
  "kernelspec": {
   "display_name": "Python 3",
   "language": "python",
   "name": "python3"
  },
  "language_info": {
   "codemirror_mode": {
    "name": "ipython",
    "version": 3
   },
   "file_extension": ".py",
   "mimetype": "text/x-python",
   "name": "python",
   "nbconvert_exporter": "python",
   "pygments_lexer": "ipython3",
   "version": "3.7.3"
  }
 },
 "nbformat": 4,
 "nbformat_minor": 2
}
