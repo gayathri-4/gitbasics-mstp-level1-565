{
 "cells": [
  {
   "cell_type": "markdown",
   "metadata": {},
   "source": [
    "# regular expressions"
   ]
  },
  {
   "cell_type": "markdown",
   "metadata": {},
   "source": [
    "* abc-->that matches the character sequence anywhere in the string\n",
    "* ^-->beginning of the string\n",
    "* $-->ending of the string\n",
    "* a|b--->either a or b\n",
    "* ^a[a-z]|[A-Z]s$---->it accepts either a(small letter)or (caps)s\n",
    "* ^abc|abc$--->it accepts starts with abc or it accepts ends vth abc\n",
    "* ^a[a-z]{2}[A-Z]{3}s$--->it accepts smalls 2 times caps 3 times\n",
    "* ab*c--->it accepts a follwed by b(0 or more times)and end vth c\n",
    "* ab+c---->it accepts a followed by b(1 or more times)and end vth c\n",
    "#### phone number validation:\n",
    "* ^[6-9][0-9]{9}$\n",
    "#### roll number:\n",
    "* ^[0-9]{3}([A-Z]|[a-z])1([a-z]|[A-Z])[0-9]{2}([a-z]|[0-9])[0-9]$\n",
    "#### for any college:\n",
    "* ^[0-9]{2}([0-9]|[a-z]|[A-Z]){2}1([a-z]|[A-Z])0[1-5]([0-9]|[a-z]|[A-Z]){2}\n",
    "#### email.id:\n",
    "* ^([a-z]|[A-Z]|[0-9])([0-9]|[A-Z]|[a-z]|[_]){6,14}([0-9]|[a-z]@[a-z]{2,10}[.][a-z]{2,4}$"
   ]
  },
  {
   "cell_type": "markdown",
   "metadata": {},
   "source": [
    "### phone validation"
   ]
  },
  {
   "cell_type": "code",
   "execution_count": 2,
   "metadata": {},
   "outputs": [
    {
     "data": {
      "text/plain": [
       "1"
      ]
     },
     "execution_count": 2,
     "metadata": {},
     "output_type": "execute_result"
    }
   ],
   "source": [
    "#^[0][6-9][0-9]{9}$----10 digit number starting vth zero\n",
    "#^[+][9][1][6789][0-9]{9}$----starting vth 91\n",
    "#^[6-9][0-9]{9}$\n",
    "import re\n",
    "def phonenumber(no):\n",
    "    pattern='^[0][6-9][0-9]{9}$|^[+][9][1][6789][0-9]{9}$|^[6-9][0-9]{9}$'\n",
    "    if re.match(pattern,no):\n",
    "        return 1\n",
    "    else:\n",
    "        return 0\n",
    "phonenumber(\"08536893867\")"
   ]
  },
  {
   "cell_type": "code",
   "execution_count": 3,
   "metadata": {},
   "outputs": [
    {
     "data": {
      "text/plain": [
       "True"
      ]
     },
     "execution_count": 3,
     "metadata": {},
     "output_type": "execute_result"
    }
   ],
   "source": [
    "import re\n",
    "def email(n):\n",
    "    pattern='^([a-z]|[A-Z]|[0-9])([0-9]|[A-Z]|[a-z]|[_]){6,}([0-9]|[a-z])@[a-z]{2,10}[.][a-z]{2,4}$'\n",
    "    if re.match(pattern,n):\n",
    "        return True\n",
    "    else:\n",
    "        return False\n",
    "email(\"lekireddygayathri88@gmail.com\")"
   ]
  },
  {
   "cell_type": "code",
   "execution_count": 9,
   "metadata": {},
   "outputs": [
    {
     "name": "stdout",
     "output_type": "stream",
     "text": [
      "phone number verified successfully\n",
      "email verified successfully\n"
     ]
    }
   ],
   "source": [
    "d={\"gayi\":[\"8464052803\",\"lekireddygayathri88@gmail.com\"],\"lucky\":[\"8790695442\",\"klakshmisudha98@gmail.com\"]}\n",
    "def addcontact(n,l):\n",
    "    if n not in d:\n",
    "        if phonenumber(l[0])==1:\n",
    "            print(\"phone number verified successfully\")\n",
    "            if email(l[1])==1:\n",
    "                print(\"email verified successfully\")\n",
    "                d[n]=l\n",
    "        else:\n",
    "            print(\"enter valid no and email\")\n",
    "    else:\n",
    "        print(\"already exists\")\n",
    "addcontact(\"janu\",[\"9177619142\",\"nanduannagowni@gmail.com\"])\n",
    "        \n"
   ]
  },
  {
   "cell_type": "code",
   "execution_count": 10,
   "metadata": {},
   "outputs": [
    {
     "data": {
      "text/plain": [
       "{'gayi': ['8464052803', 'lekireddygayathri88@gmail.com'],\n",
       " 'lucky': ['8790695442', 'klakshmisudha98@gmail.com'],\n",
       " 'janu': ['9177619142', 'nanduannagowni@gmail.com']}"
      ]
     },
     "execution_count": 10,
     "metadata": {},
     "output_type": "execute_result"
    }
   ],
   "source": [
    "d"
   ]
  },
  {
   "cell_type": "code",
   "execution_count": null,
   "metadata": {},
   "outputs": [],
   "source": []
  }
 ],
 "metadata": {
  "kernelspec": {
   "display_name": "Python 3",
   "language": "python",
   "name": "python3"
  },
  "language_info": {
   "codemirror_mode": {
    "name": "ipython",
    "version": 3
   },
   "file_extension": ".py",
   "mimetype": "text/x-python",
   "name": "python",
   "nbconvert_exporter": "python",
   "pygments_lexer": "ipython3",
   "version": "3.7.3"
  }
 },
 "nbformat": 4,
 "nbformat_minor": 2
}
