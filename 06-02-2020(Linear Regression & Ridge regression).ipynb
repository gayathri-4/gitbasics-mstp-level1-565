{
 "cells": [
  {
   "cell_type": "code",
   "execution_count": 1,
   "metadata": {},
   "outputs": [],
   "source": [
    "import pandas as pd\n",
    "import numpy as np\n",
    "import matplotlib.pyplot as plt"
   ]
  },
  {
   "cell_type": "code",
   "execution_count": 2,
   "metadata": {},
   "outputs": [],
   "source": [
    "ad_df=pd.read_csv(\"Advertising.csv\")"
   ]
  },
  {
   "cell_type": "code",
   "execution_count": 3,
   "metadata": {},
   "outputs": [
    {
     "data": {
      "text/html": [
       "<div>\n",
       "<style scoped>\n",
       "    .dataframe tbody tr th:only-of-type {\n",
       "        vertical-align: middle;\n",
       "    }\n",
       "\n",
       "    .dataframe tbody tr th {\n",
       "        vertical-align: top;\n",
       "    }\n",
       "\n",
       "    .dataframe thead th {\n",
       "        text-align: right;\n",
       "    }\n",
       "</style>\n",
       "<table border=\"1\" class=\"dataframe\">\n",
       "  <thead>\n",
       "    <tr style=\"text-align: right;\">\n",
       "      <th></th>\n",
       "      <th>Unnamed: 0</th>\n",
       "      <th>TV</th>\n",
       "      <th>radio</th>\n",
       "      <th>newspaper</th>\n",
       "      <th>sales</th>\n",
       "    </tr>\n",
       "  </thead>\n",
       "  <tbody>\n",
       "    <tr>\n",
       "      <th>0</th>\n",
       "      <td>1</td>\n",
       "      <td>230.1</td>\n",
       "      <td>37.8</td>\n",
       "      <td>69.2</td>\n",
       "      <td>22.1</td>\n",
       "    </tr>\n",
       "    <tr>\n",
       "      <th>1</th>\n",
       "      <td>2</td>\n",
       "      <td>44.5</td>\n",
       "      <td>39.3</td>\n",
       "      <td>45.1</td>\n",
       "      <td>10.4</td>\n",
       "    </tr>\n",
       "    <tr>\n",
       "      <th>2</th>\n",
       "      <td>3</td>\n",
       "      <td>17.2</td>\n",
       "      <td>45.9</td>\n",
       "      <td>69.3</td>\n",
       "      <td>9.3</td>\n",
       "    </tr>\n",
       "    <tr>\n",
       "      <th>3</th>\n",
       "      <td>4</td>\n",
       "      <td>151.5</td>\n",
       "      <td>41.3</td>\n",
       "      <td>58.5</td>\n",
       "      <td>18.5</td>\n",
       "    </tr>\n",
       "    <tr>\n",
       "      <th>4</th>\n",
       "      <td>5</td>\n",
       "      <td>180.8</td>\n",
       "      <td>10.8</td>\n",
       "      <td>58.4</td>\n",
       "      <td>12.9</td>\n",
       "    </tr>\n",
       "  </tbody>\n",
       "</table>\n",
       "</div>"
      ],
      "text/plain": [
       "   Unnamed: 0     TV  radio  newspaper  sales\n",
       "0           1  230.1   37.8       69.2   22.1\n",
       "1           2   44.5   39.3       45.1   10.4\n",
       "2           3   17.2   45.9       69.3    9.3\n",
       "3           4  151.5   41.3       58.5   18.5\n",
       "4           5  180.8   10.8       58.4   12.9"
      ]
     },
     "execution_count": 3,
     "metadata": {},
     "output_type": "execute_result"
    }
   ],
   "source": [
    "ad_df.head()"
   ]
  },
  {
   "cell_type": "code",
   "execution_count": 4,
   "metadata": {},
   "outputs": [],
   "source": [
    "ad_df.drop(\"Unnamed: 0\",axis=1,inplace=True)"
   ]
  },
  {
   "cell_type": "code",
   "execution_count": 5,
   "metadata": {},
   "outputs": [
    {
     "data": {
      "text/html": [
       "<div>\n",
       "<style scoped>\n",
       "    .dataframe tbody tr th:only-of-type {\n",
       "        vertical-align: middle;\n",
       "    }\n",
       "\n",
       "    .dataframe tbody tr th {\n",
       "        vertical-align: top;\n",
       "    }\n",
       "\n",
       "    .dataframe thead th {\n",
       "        text-align: right;\n",
       "    }\n",
       "</style>\n",
       "<table border=\"1\" class=\"dataframe\">\n",
       "  <thead>\n",
       "    <tr style=\"text-align: right;\">\n",
       "      <th></th>\n",
       "      <th>TV</th>\n",
       "      <th>radio</th>\n",
       "      <th>newspaper</th>\n",
       "      <th>sales</th>\n",
       "    </tr>\n",
       "  </thead>\n",
       "  <tbody>\n",
       "    <tr>\n",
       "      <th>0</th>\n",
       "      <td>230.1</td>\n",
       "      <td>37.8</td>\n",
       "      <td>69.2</td>\n",
       "      <td>22.1</td>\n",
       "    </tr>\n",
       "    <tr>\n",
       "      <th>1</th>\n",
       "      <td>44.5</td>\n",
       "      <td>39.3</td>\n",
       "      <td>45.1</td>\n",
       "      <td>10.4</td>\n",
       "    </tr>\n",
       "    <tr>\n",
       "      <th>2</th>\n",
       "      <td>17.2</td>\n",
       "      <td>45.9</td>\n",
       "      <td>69.3</td>\n",
       "      <td>9.3</td>\n",
       "    </tr>\n",
       "    <tr>\n",
       "      <th>3</th>\n",
       "      <td>151.5</td>\n",
       "      <td>41.3</td>\n",
       "      <td>58.5</td>\n",
       "      <td>18.5</td>\n",
       "    </tr>\n",
       "    <tr>\n",
       "      <th>4</th>\n",
       "      <td>180.8</td>\n",
       "      <td>10.8</td>\n",
       "      <td>58.4</td>\n",
       "      <td>12.9</td>\n",
       "    </tr>\n",
       "  </tbody>\n",
       "</table>\n",
       "</div>"
      ],
      "text/plain": [
       "      TV  radio  newspaper  sales\n",
       "0  230.1   37.8       69.2   22.1\n",
       "1   44.5   39.3       45.1   10.4\n",
       "2   17.2   45.9       69.3    9.3\n",
       "3  151.5   41.3       58.5   18.5\n",
       "4  180.8   10.8       58.4   12.9"
      ]
     },
     "execution_count": 5,
     "metadata": {},
     "output_type": "execute_result"
    }
   ],
   "source": [
    "ad_df.head()"
   ]
  },
  {
   "cell_type": "code",
   "execution_count": 6,
   "metadata": {},
   "outputs": [
    {
     "data": {
      "text/plain": [
       "0      230.1\n",
       "1       44.5\n",
       "2       17.2\n",
       "3      151.5\n",
       "4      180.8\n",
       "5        8.7\n",
       "6       57.5\n",
       "7      120.2\n",
       "8        8.6\n",
       "9      199.8\n",
       "10      66.1\n",
       "11     214.7\n",
       "12      23.8\n",
       "13      97.5\n",
       "14     204.1\n",
       "15     195.4\n",
       "16      67.8\n",
       "17     281.4\n",
       "18      69.2\n",
       "19     147.3\n",
       "20     218.4\n",
       "21     237.4\n",
       "22      13.2\n",
       "23     228.3\n",
       "24      62.3\n",
       "25     262.9\n",
       "26     142.9\n",
       "27     240.1\n",
       "28     248.8\n",
       "29      70.6\n",
       "       ...  \n",
       "170     50.0\n",
       "171    164.5\n",
       "172     19.6\n",
       "173    168.4\n",
       "174    222.4\n",
       "175    276.9\n",
       "176    248.4\n",
       "177    170.2\n",
       "178    276.7\n",
       "179    165.6\n",
       "180    156.6\n",
       "181    218.5\n",
       "182     56.2\n",
       "183    287.6\n",
       "184    253.8\n",
       "185    205.0\n",
       "186    139.5\n",
       "187    191.1\n",
       "188    286.0\n",
       "189     18.7\n",
       "190     39.5\n",
       "191     75.5\n",
       "192     17.2\n",
       "193    166.8\n",
       "194    149.7\n",
       "195     38.2\n",
       "196     94.2\n",
       "197    177.0\n",
       "198    283.6\n",
       "199    232.1\n",
       "Name: TV, Length: 200, dtype: float64"
      ]
     },
     "execution_count": 6,
     "metadata": {},
     "output_type": "execute_result"
    }
   ],
   "source": [
    "x=ad_df.iloc[:,0]\n",
    "x"
   ]
  },
  {
   "cell_type": "code",
   "execution_count": 10,
   "metadata": {},
   "outputs": [
    {
     "name": "stdout",
     "output_type": "stream",
     "text": [
      "(200, 3)\n",
      "(200, 1)\n"
     ]
    }
   ],
   "source": [
    "x=ad_df.iloc[:,0:3].values\n",
    "#print(x)\n",
    "y=ad_df.iloc[:,3:].values.reshape(-1,1)\n",
    "#y=ad_df[\"sales\"].values\n",
    "print(x.shape)\n",
    "print(y.shape)"
   ]
  },
  {
   "cell_type": "code",
   "execution_count": 18,
   "metadata": {},
   "outputs": [],
   "source": [
    "from sklearn.linear_model import LinearRegression\n",
    "lin=LinearRegression()"
   ]
  },
  {
   "cell_type": "code",
   "execution_count": 19,
   "metadata": {},
   "outputs": [
    {
     "data": {
      "text/plain": [
       "LinearRegression(copy_X=True, fit_intercept=True, n_jobs=None, normalize=False)"
      ]
     },
     "execution_count": 19,
     "metadata": {},
     "output_type": "execute_result"
    }
   ],
   "source": [
    "lin.fit(x,y)"
   ]
  },
  {
   "cell_type": "code",
   "execution_count": 20,
   "metadata": {},
   "outputs": [
    {
     "data": {
      "text/plain": [
       "array([[20.52397441],\n",
       "       [12.33785482],\n",
       "       [12.30767078],\n",
       "       [17.59782951],\n",
       "       [13.18867186],\n",
       "       [12.47834763],\n",
       "       [11.72975995],\n",
       "       [12.12295317],\n",
       "       [ 3.72734086],\n",
       "       [12.55084872],\n",
       "       [ 7.0322992 ],\n",
       "       [17.28512918],\n",
       "       [10.57712073],\n",
       "       [ 8.82630048],\n",
       "       [18.43436638],\n",
       "       [20.81929952],\n",
       "       [12.82365674],\n",
       "       [23.22495716],\n",
       "       [ 9.95168206],\n",
       "       [14.16607293],\n",
       "       [18.10076728],\n",
       "       [14.7405382 ],\n",
       "       [ 6.4891503 ],\n",
       "       [16.5459329 ],\n",
       "       [ 8.14651887],\n",
       "       [15.6100386 ],\n",
       "       [14.98951429],\n",
       "       [17.05167344],\n",
       "       [19.41053803],\n",
       "       [ 9.14402389],\n",
       "       [21.6339338 ],\n",
       "       [11.3460929 ],\n",
       "       [ 7.63888314],\n",
       "       [18.86426829],\n",
       "       [ 7.57483051],\n",
       "       [17.00682618],\n",
       "       [23.40590052],\n",
       "       [15.62347779],\n",
       "       [ 9.90868103],\n",
       "       [20.44761039],\n",
       "       [16.37766467],\n",
       "       [17.2959832 ],\n",
       "       [21.59580326],\n",
       "       [13.96385684],\n",
       "       [ 8.88787996],\n",
       "       [15.16152314],\n",
       "       [ 8.87338673],\n",
       "       [21.7226299 ],\n",
       "       [16.26362018],\n",
       "       [ 8.1681656 ],\n",
       "       [12.63121132],\n",
       "       [ 9.33981296],\n",
       "       [20.66297563],\n",
       "       [19.94469957],\n",
       "       [20.37443008],\n",
       "       [21.2926106 ],\n",
       "       [ 8.52771254],\n",
       "       [12.77458802],\n",
       "       [21.89805198],\n",
       "       [18.13348698],\n",
       "       [ 5.74215558],\n",
       "       [22.89067208],\n",
       "       [16.78426073],\n",
       "       [13.21069202],\n",
       "       [16.97773556],\n",
       "       [ 7.84904532],\n",
       "       [ 9.01603163],\n",
       "       [12.0370073 ],\n",
       "       [18.97657924],\n",
       "       [21.10891244],\n",
       "       [17.77949782],\n",
       "       [10.62693815],\n",
       "       [10.36684881],\n",
       "       [ 9.90298206],\n",
       "       [17.32931197],\n",
       "       [11.85832174],\n",
       "       [ 4.47758904],\n",
       "       [13.81190223],\n",
       "       [ 8.81331353],\n",
       "       [ 9.67530328],\n",
       "       [11.44592364],\n",
       "       [14.64794093],\n",
       "       [10.17840799],\n",
       "       [14.42184212],\n",
       "       [20.78136464],\n",
       "       [15.18140789],\n",
       "       [11.59870739],\n",
       "       [15.59378475],\n",
       "       [11.71127101],\n",
       "       [16.92225511],\n",
       "       [ 9.99922965],\n",
       "       [ 4.49631598],\n",
       "       [19.15639616],\n",
       "       [21.22757378],\n",
       "       [10.48212385],\n",
       "       [16.31492112],\n",
       "       [12.63571716],\n",
       "       [15.33707782],\n",
       "       [24.11860723],\n",
       "       [16.94035021],\n",
       "       [13.87595844],\n",
       "       [23.24248685],\n",
       "       [17.64409385],\n",
       "       [14.76221142],\n",
       "       [20.30110878],\n",
       "       [17.93641467],\n",
       "       [ 6.12602215],\n",
       "       [ 7.10850249],\n",
       "       [ 3.58725841],\n",
       "       [19.69293106],\n",
       "       [14.7598741 ],\n",
       "       [21.14027498],\n",
       "       [13.88060985],\n",
       "       [16.40377623],\n",
       "       [15.30509593],\n",
       "       [12.91968895],\n",
       "       [11.97874744],\n",
       "       [ 6.5707774 ],\n",
       "       [15.56609348],\n",
       "       [ 6.82006767],\n",
       "       [14.41010605],\n",
       "       [ 7.83807642],\n",
       "       [13.6264571 ],\n",
       "       [15.0827909 ],\n",
       "       [19.45441306],\n",
       "       [ 9.12734958],\n",
       "       [10.57717411],\n",
       "       [ 6.599669  ],\n",
       "       [22.25549161],\n",
       "       [ 7.88410649],\n",
       "       [10.4276871 ],\n",
       "       [15.57779819],\n",
       "       [ 8.44915012],\n",
       "       [19.26692307],\n",
       "       [11.8368039 ],\n",
       "       [14.00141385],\n",
       "       [11.45348627],\n",
       "       [20.85125198],\n",
       "       [ 9.76842795],\n",
       "       [19.67547632],\n",
       "       [ 9.48964097],\n",
       "       [18.39902932],\n",
       "       [19.24986927],\n",
       "       [ 8.76480262],\n",
       "       [10.09133403],\n",
       "       [ 9.70853872],\n",
       "       [15.29422368],\n",
       "       [23.26086103],\n",
       "       [12.26335941],\n",
       "       [ 9.8272711 ],\n",
       "       [18.36720534],\n",
       "       [10.0095377 ],\n",
       "       [16.3600003 ],\n",
       "       [18.22390132],\n",
       "       [15.50161696],\n",
       "       [ 5.3075589 ],\n",
       "       [15.38485192],\n",
       "       [10.0143112 ],\n",
       "       [10.38419866],\n",
       "       [12.39914823],\n",
       "       [14.21383298],\n",
       "       [13.55914568],\n",
       "       [14.94678206],\n",
       "       [17.35163608],\n",
       "       [11.0682946 ],\n",
       "       [14.22372138],\n",
       "       [10.82439531],\n",
       "       [13.36324677],\n",
       "       [17.1861428 ],\n",
       "       [17.9415563 ],\n",
       "       [ 7.39497997],\n",
       "       [14.35827373],\n",
       "       [ 7.60769238],\n",
       "       [11.97093887],\n",
       "       [13.74435742],\n",
       "       [24.78687031],\n",
       "       [19.9793727 ],\n",
       "       [12.1620464 ],\n",
       "       [16.01099722],\n",
       "       [12.38455495],\n",
       "       [10.5871997 ],\n",
       "       [13.92809918],\n",
       "       [ 6.55467   ],\n",
       "       [24.13310013],\n",
       "       [18.53852096],\n",
       "       [20.80301059],\n",
       "       [ 9.69137313],\n",
       "       [17.07644223],\n",
       "       [18.64430648],\n",
       "       [ 6.05162411],\n",
       "       [12.4891591 ],\n",
       "       [ 8.42401933],\n",
       "       [ 4.46622956],\n",
       "       [18.48695797],\n",
       "       [16.49530044],\n",
       "       [ 5.37034248],\n",
       "       [ 8.16531236],\n",
       "       [12.78592082],\n",
       "       [23.76732149],\n",
       "       [15.17319554]])"
      ]
     },
     "execution_count": 20,
     "metadata": {},
     "output_type": "execute_result"
    }
   ],
   "source": [
    "y_predi=lin.predict(x)\n",
    "y_predi"
   ]
  },
  {
   "cell_type": "code",
   "execution_count": 21,
   "metadata": {},
   "outputs": [
    {
     "data": {
      "text/plain": [
       "array([[13.18867186]])"
      ]
     },
     "execution_count": 21,
     "metadata": {},
     "output_type": "execute_result"
    }
   ],
   "source": [
    "lin.predict([[180.8,10.8,58.4]])"
   ]
  },
  {
   "cell_type": "code",
   "execution_count": 24,
   "metadata": {},
   "outputs": [
    {
     "data": {
      "image/png": "[encoded data removed]",
      "text/plain": [
       "<Figure size 432x288 with 1 Axes>"
      ]
     },
     "metadata": {
      "needs_background": "light"
     },
     "output_type": "display_data"
    }
   ],
   "source": [
    "plt.scatter(ad_df[\"radio\"],y,c='r',label=\"Before predictions\")\n",
    "plt.plot(x,y_predi,c='y',label=\"After prediction with Linearregression\")\n",
    "plt.xlabel(\"Cost of Tv,radio,news paper\")\n",
    "plt.ylabel(\"sales\")\n",
    "plt.title(\"Linear regression\")\n",
    "plt.legend(\"best\")\n",
    "plt.show()"
   ]
  },
  {
   "cell_type": "code",
   "execution_count": 37,
   "metadata": {},
   "outputs": [],
   "source": [
    "from sklearn.preprocessing import PolynomialFeatures\n",
    "poly_feat=PolynomialFeatures()"
   ]
  },
  {
   "cell_type": "code",
   "execution_count": 38,
   "metadata": {},
   "outputs": [
    {
     "data": {
      "text/plain": [
       "PolynomialFeatures(degree=2, include_bias=True, interaction_only=False,\n",
       "                   order='C')"
      ]
     },
     "execution_count": 38,
     "metadata": {},
     "output_type": "execute_result"
    }
   ],
   "source": [
    "x_poly=poly_feat.fit_transform(x)\n",
    "poly_feat.fit(x_poly,y)"
   ]
  },
  {
   "cell_type": "code",
   "execution_count": 39,
   "metadata": {},
   "outputs": [
    {
     "data": {
      "text/plain": [
       "LinearRegression(copy_X=True, fit_intercept=True, n_jobs=None, normalize=False)"
      ]
     },
     "execution_count": 39,
     "metadata": {},
     "output_type": "execute_result"
    }
   ],
   "source": [
    "lin.fit(x_poly,y)"
   ]
  },
  {
   "cell_type": "code",
   "execution_count": 40,
   "metadata": {},
   "outputs": [],
   "source": [
    "y_predictions=lin.predict(x_poly)"
   ]
  },
  {
   "cell_type": "code",
   "execution_count": 41,
   "metadata": {},
   "outputs": [
    {
     "data": {
      "text/plain": [
       "array([[ 0.00000000e+00,  5.16525487e-02,  2.10742970e-02,\n",
       "         6.88373531e-03, -1.09702663e-04,  1.10525949e-03,\n",
       "        -4.55155391e-05,  1.11997015e-04,  8.26605896e-05,\n",
       "         1.19125650e-05]])"
      ]
     },
     "execution_count": 41,
     "metadata": {},
     "output_type": "execute_result"
    }
   ],
   "source": [
    "lin.coef_"
   ]
  },
  {
   "cell_type": "code",
   "execution_count": 42,
   "metadata": {},
   "outputs": [
    {
     "data": {
      "image/png": "[encoded data removed]",
      "text/plain": [
       "<Figure size 432x288 with 1 Axes>"
      ]
     },
     "metadata": {
      "needs_background": "light"
     },
     "output_type": "display_data"
    }
   ],
   "source": [
    "plt.scatter(ad_df[\"TV\"],y,c='r',label=\"Before predictions\")\n",
    "plt.plot(x,y_predi,c='y',label=\"After prediction with Linearregression\")\n",
    "plt.xlabel(\"Cost of Tv,radio,news paper\")\n",
    "plt.ylabel(\"sales\")\n",
    "plt.title(\"Linear regression\")\n",
    "plt.legend(\"best\")\n",
    "plt.show()"
   ]
  },
  {
   "cell_type": "markdown",
   "metadata": {},
   "source": [
    "### Ridge regression(Tikhonov regularization)"
   ]
  },
  {
   "cell_type": "markdown",
   "metadata": {},
   "source": [
    "## Ridge regression:\n",
    "### 1.ridge regression:over fitting--(alpha=0<alpha<infinity)\n",
    "### 2.lasso regression:under fitting  # regularization regression"
   ]
  },
  {
   "cell_type": "code",
   "execution_count": 46,
   "metadata": {},
   "outputs": [],
   "source": [
    "from sklearn.linear_model import Ridge"
   ]
  },
  {
   "cell_type": "code",
   "execution_count": 47,
   "metadata": {},
   "outputs": [],
   "source": [
    "r=Ridge()"
   ]
  },
  {
   "cell_type": "code",
   "execution_count": 56,
   "metadata": {},
   "outputs": [
    {
     "name": "stdout",
     "output_type": "stream",
     "text": [
      "x2 [[1.61167588]\n",
      " [2.71605567]\n",
      " [0.18750641]\n",
      " [4.62537762]\n",
      " [0.33703033]\n",
      " [1.20422794]\n",
      " [2.48200747]\n",
      " [0.02142395]\n",
      " [1.1385931 ]\n",
      " [1.28603253]\n",
      " [3.87918039]\n",
      " [4.9203981 ]\n",
      " [0.99657591]\n",
      " [0.04927072]\n",
      " [4.19098294]\n",
      " [1.36152302]\n",
      " [4.66381646]\n",
      " [3.31646921]\n",
      " [3.74612212]\n",
      " [4.45739205]\n",
      " [2.12233079]\n",
      " [4.25833964]\n",
      " [0.13591387]\n",
      " [2.49786833]\n",
      " [2.54797646]\n",
      " [2.87690713]\n",
      " [2.89318779]\n",
      " [1.8870526 ]\n",
      " [3.43178265]\n",
      " [1.30094027]\n",
      " [0.10814375]\n",
      " [0.46840323]\n",
      " [0.48933248]\n",
      " [2.42990656]\n",
      " [4.28043722]\n",
      " [3.75519107]\n",
      " [3.31611889]\n",
      " [4.47039981]\n",
      " [0.87871785]\n",
      " [0.45182002]\n",
      " [2.288815  ]\n",
      " [3.93702423]\n",
      " [4.26651552]\n",
      " [0.26942944]\n",
      " [3.65743932]\n",
      " [3.50515727]\n",
      " [4.85803847]\n",
      " [2.8574159 ]\n",
      " [2.76677359]\n",
      " [3.75746539]\n",
      " [1.64663949]\n",
      " [0.14695316]\n",
      " [2.59611292]\n",
      " [0.16316185]\n",
      " [1.18163044]\n",
      " [1.52379969]\n",
      " [3.59924206]\n",
      " [2.10636712]\n",
      " [0.4591715 ]\n",
      " [0.8856506 ]\n",
      " [2.19791866]\n",
      " [2.01913046]\n",
      " [3.25900738]\n",
      " [1.51923098]\n",
      " [3.78067479]\n",
      " [4.84858806]\n",
      " [4.815756  ]\n",
      " [4.37097266]\n",
      " [4.45425682]\n",
      " [1.86165252]\n",
      " [1.35612889]\n",
      " [0.09523073]\n",
      " [2.8717232 ]\n",
      " [2.87243459]\n",
      " [0.56025927]\n",
      " [1.38080035]\n",
      " [1.02987336]\n",
      " [3.10879452]\n",
      " [1.55142858]\n",
      " [1.70329581]\n",
      " [2.12509049]\n",
      " [2.13878937]\n",
      " [1.57713078]\n",
      " [0.61016684]\n",
      " [1.41373903]\n",
      " [3.01885949]\n",
      " [3.50642657]\n",
      " [0.52684804]\n",
      " [4.28501437]\n",
      " [2.35981263]\n",
      " [1.48482258]\n",
      " [0.75449319]\n",
      " [0.14956902]\n",
      " [3.51621012]\n",
      " [3.281337  ]\n",
      " [3.95934339]\n",
      " [4.04501305]\n",
      " [1.16084719]\n",
      " [0.1561468 ]\n",
      " [4.15866131]]\n",
      "y2 [[-0.61462937]\n",
      " [-0.64305833]\n",
      " [ 1.12960331]\n",
      " [ 1.74827868]\n",
      " [ 2.27194662]\n",
      " [ 2.0037337 ]\n",
      " [ 1.01079876]\n",
      " [ 0.37731886]\n",
      " [ 0.75616213]\n",
      " [-0.83153391]\n",
      " [-0.77715921]\n",
      " [ 2.53479375]\n",
      " [ 2.45088904]\n",
      " [ 0.1678398 ]\n",
      " [ 1.86919047]\n",
      " [ 1.28773094]\n",
      " [ 2.37269016]\n",
      " [ 2.75858505]\n",
      " [ 0.52444237]\n",
      " [ 3.00596147]\n",
      " [ 0.42392345]\n",
      " [ 2.85407223]\n",
      " [ 1.31844435]\n",
      " [ 0.38793157]\n",
      " [ 1.65491598]\n",
      " [ 0.35648985]\n",
      " [ 1.69988725]\n",
      " [ 0.36609647]\n",
      " [ 1.55986722]\n",
      " [-0.85682619]\n",
      " [ 1.0536023 ]\n",
      " [-0.66294511]\n",
      " [-2.13060525]\n",
      " [ 1.74826714]\n",
      " [ 2.04469091]\n",
      " [ 0.7542635 ]\n",
      " [ 2.69399922]\n",
      " [ 2.58106638]\n",
      " [ 0.56841739]\n",
      " [ 2.38591389]\n",
      " [ 2.87064348]\n",
      " [ 2.71150543]\n",
      " [ 1.16276236]\n",
      " [-0.88414458]\n",
      " [ 0.16646726]\n",
      " [ 1.47711106]\n",
      " [ 1.88815546]\n",
      " [ 1.6974861 ]\n",
      " [ 2.35778526]\n",
      " [ 0.56562288]\n",
      " [ 0.69111262]\n",
      " [-0.00544787]\n",
      " [ 2.20670059]\n",
      " [-2.41341384]\n",
      " [-1.03365578]\n",
      " [ 2.14468924]\n",
      " [ 1.20886906]\n",
      " [ 2.60253702]\n",
      " [ 0.14726672]\n",
      " [ 3.337349  ]\n",
      " [ 1.81132737]\n",
      " [ 0.52105845]\n",
      " [ 1.35966288]\n",
      " [-0.27000465]\n",
      " [ 0.9980318 ]\n",
      " [ 1.94863875]\n",
      " [ 1.06224101]\n",
      " [ 1.6198777 ]\n",
      " [ 0.15346795]\n",
      " [-0.42775498]\n",
      " [ 1.29385887]\n",
      " [ 3.13662483]\n",
      " [ 3.03157964]\n",
      " [ 1.71285641]\n",
      " [ 0.14418904]\n",
      " [ 0.92510044]\n",
      " [ 1.26413296]\n",
      " [-0.51315172]\n",
      " [ 2.84557295]\n",
      " [ 1.29336647]\n",
      " [-1.48686982]\n",
      " [-1.60072297]\n",
      " [ 1.09847415]\n",
      " [-1.39776976]\n",
      " [-0.40745613]\n",
      " [ 0.59701359]\n",
      " [ 0.55965339]\n",
      " [ 0.54094   ]\n",
      " [ 2.76793912]\n",
      " [ 1.33232861]\n",
      " [ 2.3651149 ]\n",
      " [-0.13441382]\n",
      " [ 2.25158327]\n",
      " [ 4.42710273]\n",
      " [ 2.57057658]\n",
      " [ 0.47009577]\n",
      " [ 0.53467016]\n",
      " [ 1.44629614]\n",
      " [ 0.33762141]\n",
      " [ 2.24403532]]\n"
     ]
    }
   ],
   "source": [
    "x2=5*np.random.rand(100,1)\n",
    "y2=0.5*X2+np.random.randn(100,1)\n",
    "x2.shape\n",
    "print(\"x2\",x2)\n",
    "print(\"y2\",y2)"
   ]
  },
  {
   "cell_type": "code",
   "execution_count": 57,
   "metadata": {},
   "outputs": [
    {
     "data": {
      "text/plain": [
       "(100, 1)"
      ]
     },
     "execution_count": 57,
     "metadata": {},
     "output_type": "execute_result"
    }
   ],
   "source": [
    "y2.shape"
   ]
  },
  {
   "cell_type": "code",
   "execution_count": 58,
   "metadata": {},
   "outputs": [
    {
     "data": {
      "text/plain": [
       "Ridge(alpha=1, copy_X=True, fit_intercept=True, max_iter=None, normalize=False,\n",
       "      random_state=None, solver='Cholesky', tol=0.001)"
      ]
     },
     "execution_count": 58,
     "metadata": {},
     "output_type": "execute_result"
    }
   ],
   "source": [
    "r=Ridge(alpha=1,solver=\"Cholesky\")\n",
    "r"
   ]
  },
  {
   "cell_type": "markdown",
   "metadata": {},
   "source": [
    "### solver;{‘auto’, ‘svd’, ‘cholesky’, ‘lsqr’, ‘sparse_cg’, ‘sag’, ‘saga’}\n",
    "\n",
    "#### Solver to use in the computational routines:\n",
    "\n",
    "#### ‘auto’ chooses the solver automatically based on the type of data.\n",
    "\n",
    "#### ‘svd’ uses a Singular Value Decomposition of X to compute the Ridge coefficients. More stable for singular matrices than ‘cholesky’.\n",
    "\n",
    "#### ‘cholesky’ uses the standard scipy.linalg solve function to obtain a closed-form solution.\n",
    "\n",
    "#### ‘sparse_cg’ uses the conjugate gradient solver as found in scipy.sparse.linalg.cg. As an iterative algorithm, this solver is more appropriate than ‘cholesky’ for large-scale data (possibility to set tol and max_iter).\n",
    "\n",
    "#### ‘lsqr’ uses the dedicated regularized least-squares routine scipy.sparse.linalg.lsqr. It is the fastest and uses an iterative procedure.\n",
    "\n",
    "#### ‘sag’ uses a Stochastic Average Gradient descent, and ‘saga’ uses its improved, unbiased version named SAGA. Both methods also use an iterative procedure, and are often faster than other solvers when both n_samples and n_features are large."
   ]
  },
  {
   "cell_type": "code",
   "execution_count": 59,
   "metadata": {},
   "outputs": [
    {
     "data": {
      "text/plain": [
       "(100, 1)"
      ]
     },
     "execution_count": 59,
     "metadata": {},
     "output_type": "execute_result"
    }
   ],
   "source": [
    "y2.shape"
   ]
  },
  {
   "cell_type": "code",
   "execution_count": 60,
   "metadata": {},
   "outputs": [
    {
     "data": {
      "text/plain": [
       "Ridge(alpha=1, copy_X=True, fit_intercept=True, max_iter=None, normalize=False,\n",
       "      random_state=None, solver='cholesky', tol=0.001)"
      ]
     },
     "execution_count": 60,
     "metadata": {},
     "output_type": "execute_result"
    }
   ],
   "source": [
    "r=Ridge(alpha=1,solver=\"cholesky\")\n",
    "r"
   ]
  },
  {
   "cell_type": "code",
   "execution_count": 61,
   "metadata": {},
   "outputs": [
    {
     "data": {
      "text/plain": [
       "Ridge(alpha=1, copy_X=True, fit_intercept=True, max_iter=None, normalize=False,\n",
       "      random_state=None, solver='cholesky', tol=0.001)"
      ]
     },
     "execution_count": 61,
     "metadata": {},
     "output_type": "execute_result"
    }
   ],
   "source": [
    "r.fit(x2,y2)"
   ]
  },
  {
   "cell_type": "code",
   "execution_count": 62,
   "metadata": {},
   "outputs": [
    {
     "data": {
      "text/plain": [
       "array([[0.66935258]])"
      ]
     },
     "execution_count": 62,
     "metadata": {},
     "output_type": "execute_result"
    }
   ],
   "source": [
    "r.predict([[0.89]])"
   ]
  },
  {
   "cell_type": "code",
   "execution_count": null,
   "metadata": {},
   "outputs": [],
   "source": []
  }
 ],
 "metadata": {
  "kernelspec": {
   "display_name": "Python 3",
   "language": "python",
   "name": "python3"
  },
  "language_info": {
   "codemirror_mode": {
    "name": "ipython",
    "version": 3
   },
   "file_extension": ".py",
   "mimetype": "text/x-python",
   "name": "python",
   "nbconvert_exporter": "python",
   "pygments_lexer": "ipython3",
   "version": "3.7.3"
  }
 },
 "nbformat": 4,
 "nbformat_minor": 2
}
