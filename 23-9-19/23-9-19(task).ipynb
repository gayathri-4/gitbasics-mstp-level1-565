{
 "cells": [
  {
   "cell_type": "markdown",
   "metadata": {},
   "source": [
    "### 1.replacing R letter except first one "
   ]
  },
  {
   "cell_type": "code",
   "execution_count": 4,
   "metadata": {},
   "outputs": [
    {
     "name": "stdout",
     "output_type": "stream",
     "text": [
      "restart\n",
      "resta$t\n"
     ]
    }
   ],
   "source": [
    "s=input()\n",
    "a=s[0]\n",
    "b=s[1:]\n",
    "t=b.replace('r','$')\n",
    "print(a+t)"
   ]
  },
  {
   "cell_type": "markdown",
   "metadata": {},
   "source": [
    "### 2.string operations"
   ]
  },
  {
   "cell_type": "code",
   "execution_count": 13,
   "metadata": {},
   "outputs": [
    {
     "name": "stdout",
     "output_type": "stream",
     "text": [
      "28\n",
      "problem solving using python\n",
      "NOHTYP GNISU GNIVLOS MELBORP\n",
      "2\n",
      "['PROBLEM', 'SOLVING', 'USING', 'PYTHON']\n",
      "PROBLEMSOLVINGUSINGPYTHON"
     ]
    }
   ],
   "source": [
    "s=\"PROBLEM SOLVING USING PYTHON\"\n",
    "print(len(s))\n",
    "print(s.lower())\n",
    "print(s[-1::-1])\n",
    "print(s.count('S'))\n",
    "a=s.split(\" \")\n",
    "print(a)\n",
    "for i in range(len(a)):\n",
    "    print(a[i],end=\"\")\n"
   ]
  },
  {
   "cell_type": "markdown",
   "metadata": {},
   "source": [
    "### 3.count of words"
   ]
  },
  {
   "cell_type": "code",
   "execution_count": 12,
   "metadata": {},
   "outputs": [
    {
     "name": "stdout",
     "output_type": "stream",
     "text": [
      "2\n"
     ]
    }
   ],
   "source": [
    "k=\"python programming by python platforms\"\n",
    "print(k.count('python'))"
   ]
  },
  {
   "cell_type": "code",
   "execution_count": null,
   "metadata": {},
   "outputs": [],
   "source": []
  }
 ],
 "metadata": {
  "kernelspec": {
   "display_name": "Python 3",
   "language": "python",
   "name": "python3"
  },
  "language_info": {
   "codemirror_mode": {
    "name": "ipython",
    "version": 3
   },
   "file_extension": ".py",
   "mimetype": "text/x-python",
   "name": "python",
   "nbconvert_exporter": "python",
   "pygments_lexer": "ipython3",
   "version": "3.7.3"
  }
 },
 "nbformat": 4,
 "nbformat_minor": 2
}
