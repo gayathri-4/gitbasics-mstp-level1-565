{
 "cells": [
  {
   "cell_type": "markdown",
   "metadata": {},
   "source": [
    "## functions\n",
    "#### used for reusability\n",
    "#### easy to debugging\n",
    " 1.function definition\n",
    " 2.function calling"
   ]
  },
  {
   "cell_type": "markdown",
   "metadata": {},
   "source": [
    "def functionname(): ----- function defination\n",
    "    stmt1\n",
    "    stmt2\n",
    "functionname(): -----function calling   "
   ]
  },
  {
   "cell_type": "code",
   "execution_count": 6,
   "metadata": {},
   "outputs": [
    {
     "name": "stdout",
     "output_type": "stream",
     "text": [
      "6\n",
      "7\n",
      "13\n"
     ]
    }
   ],
   "source": [
    "def addition():\n",
    "    x=int(input())\n",
    "    y=int(input())\n",
    "    print(x+y)\n",
    "addition()"
   ]
  },
  {
   "cell_type": "code",
   "execution_count": 7,
   "metadata": {},
   "outputs": [
    {
     "name": "stdout",
     "output_type": "stream",
     "text": [
      "7\n",
      "5\n",
      "12\n"
     ]
    }
   ],
   "source": [
    "def addition(a,b):\n",
    "    c=a+b\n",
    "    print(c)\n",
    "a=int(input())\n",
    "b=int(input())\n",
    "addition(a,b)"
   ]
  },
  {
   "cell_type": "code",
   "execution_count": 9,
   "metadata": {},
   "outputs": [
    {
     "data": {
      "text/plain": [
       "(30, 70, 100)"
      ]
     },
     "execution_count": 9,
     "metadata": {},
     "output_type": "execute_result"
    }
   ],
   "source": [
    "def add(a,b):\n",
    "    c=a+b\n",
    "    return (a,b,c)     #-------function can return only one value \n",
    "add(30,70)"
   ]
  },
  {
   "cell_type": "markdown",
   "metadata": {},
   "source": [
    "### print even or odd"
   ]
  },
  {
   "cell_type": "code",
   "execution_count": 14,
   "metadata": {},
   "outputs": [
    {
     "name": "stdout",
     "output_type": "stream",
     "text": [
      "8\n",
      "a is even\n"
     ]
    }
   ],
   "source": [
    "def evenodd(d):\n",
    "    if(d%2==0):\n",
    "        print(\"a is even\")\n",
    "    else:\n",
    "        print(\"a is odd\")\n",
    "d=int(input())\n",
    "evenodd(d)\n"
   ]
  },
  {
   "cell_type": "markdown",
   "metadata": {},
   "source": [
    "### sum of n natural numbers"
   ]
  },
  {
   "cell_type": "code",
   "execution_count": 16,
   "metadata": {},
   "outputs": [
    {
     "name": "stdout",
     "output_type": "stream",
     "text": [
      "5\n",
      "15\n"
     ]
    }
   ],
   "source": [
    "def sum(n):\n",
    "    s=0\n",
    "    for i in range (1,n+1):\n",
    "        s=s+i\n",
    "    print(s)\n",
    "n=int(input())\n",
    "sum(n)"
   ]
  },
  {
   "cell_type": "markdown",
   "metadata": {},
   "source": [
    "### product of n natural numbers"
   ]
  },
  {
   "cell_type": "code",
   "execution_count": 17,
   "metadata": {},
   "outputs": [
    {
     "name": "stdout",
     "output_type": "stream",
     "text": [
      "5\n",
      "120\n"
     ]
    }
   ],
   "source": [
    "def product(n):\n",
    "    s=1\n",
    "    for i in range (1,n+1):\n",
    "        s=s*i\n",
    "    print(s)\n",
    "n=int(input())\n",
    "product(n)"
   ]
  },
  {
   "cell_type": "markdown",
   "metadata": {},
   "source": [
    "### average of n natural number"
   ]
  },
  {
   "cell_type": "code",
   "execution_count": 23,
   "metadata": {},
   "outputs": [
    {
     "name": "stdout",
     "output_type": "stream",
     "text": [
      "5\n",
      "3\n"
     ]
    }
   ],
   "source": [
    "def average(n):\n",
    "    s=0\n",
    "    c=0\n",
    "    for i in range (1,n+1):\n",
    "        s=s+i\n",
    "        c=c+1\n",
    "    a=s//c\n",
    "    print(a)\n",
    "n=int(input())\n",
    "average(n)"
   ]
  },
  {
   "cell_type": "markdown",
   "metadata": {},
   "source": [
    "### fibanocci"
   ]
  },
  {
   "cell_type": "code",
   "execution_count": 37,
   "metadata": {},
   "outputs": [
    {
     "name": "stdout",
     "output_type": "stream",
     "text": [
      "5\n",
      "0 1\n",
      "1\n",
      "2\n",
      "3\n"
     ]
    }
   ],
   "source": [
    "def fibanocci(n):\n",
    "    a=0\n",
    "    b=1\n",
    "    print(a,b)\n",
    "    for i in range (1,n-1):\n",
    "        c=a+b\n",
    "        a=b\n",
    "        b=c\n",
    "        print(c)\n",
    "n=int(input())\n",
    "fibanocci(n)\n",
    "    "
   ]
  },
  {
   "cell_type": "markdown",
   "metadata": {},
   "source": [
    "##### factors of n"
   ]
  },
  {
   "cell_type": "code",
   "execution_count": 47,
   "metadata": {},
   "outputs": [
    {
     "name": "stdout",
     "output_type": "stream",
     "text": [
      "6\n",
      "1 2 3 6 "
     ]
    }
   ],
   "source": [
    "def factors(n):\n",
    "    for i in range (1,n+1):\n",
    "        if(n%i==0):\n",
    "            print(i,end=\" \")\n",
    "n=int(input())\n",
    "factors(n)"
   ]
  },
  {
   "cell_type": "markdown",
   "metadata": {},
   "source": [
    "### sum of factors"
   ]
  },
  {
   "cell_type": "code",
   "execution_count": 49,
   "metadata": {},
   "outputs": [
    {
     "name": "stdout",
     "output_type": "stream",
     "text": [
      "6\n",
      "1 2 3 6 12\n"
     ]
    }
   ],
   "source": [
    "def sumfactor(n):\n",
    "    sum=0\n",
    "    for i in range (1,n+1):\n",
    "        if(n%i==0):\n",
    "            print(i,end=\" \")\n",
    "            sum=sum+i\n",
    "    print(sum)\n",
    "n=int(input())\n",
    "sumfactor(n)"
   ]
  },
  {
   "cell_type": "markdown",
   "metadata": {},
   "source": [
    "### leap year or not"
   ]
  },
  {
   "cell_type": "code",
   "execution_count": 50,
   "metadata": {},
   "outputs": [
    {
     "name": "stdout",
     "output_type": "stream",
     "text": [
      "2020\n",
      "leap year\n"
     ]
    }
   ],
   "source": [
    "def leapyear(n):\n",
    "    if(n%4==0)&(n%100!=0)|(n%400==0):\n",
    "        print(\"leap year\")\n",
    "    else:\n",
    "        print(\"not leap year\")\n",
    "n=int(input())\n",
    "leapyear(n)"
   ]
  },
  {
   "cell_type": "markdown",
   "metadata": {},
   "source": [
    "###  number is perfect or not"
   ]
  },
  {
   "cell_type": "code",
   "execution_count": 16,
   "metadata": {},
   "outputs": [
    {
     "name": "stdout",
     "output_type": "stream",
     "text": [
      "6\n",
      "1 2 3 6perfect\n"
     ]
    }
   ],
   "source": [
    "def perfect(n):\n",
    "    sum=0\n",
    "    for i in range (1,n):\n",
    "        if(n%i==0):\n",
    "            print(i,end=\" \")\n",
    "            sum=sum+i\n",
    "    print(sum,end=\"\")\n",
    "    if (n==sum):\n",
    "        print(\"perfect\")\n",
    "    else:\n",
    "        print(\"not perfect\")\n",
    "n=int(input())\n",
    "perfect(n)"
   ]
  },
  {
   "cell_type": "markdown",
   "metadata": {},
   "source": [
    "###  given number is prime or not"
   ]
  },
  {
   "cell_type": "code",
   "execution_count": 4,
   "metadata": {},
   "outputs": [
    {
     "name": "stdout",
     "output_type": "stream",
     "text": [
      "9\n",
      "not prime\n"
     ]
    }
   ],
   "source": [
    "def prime(n):\n",
    "    fact=0\n",
    "    for i in range (1,n+1):\n",
    "        if(n%i==0):\n",
    "            fact=fact+1\n",
    "    if(fact==2):\n",
    "        print(\"prime\")\n",
    "    else:\n",
    "        print(\"not prime\")\n",
    "n=int(input())\n",
    "prime(n)"
   ]
  },
  {
   "cell_type": "markdown",
   "metadata": {},
   "source": [
    "### given n is armstrong or not"
   ]
  },
  {
   "cell_type": "code",
   "execution_count": 3,
   "metadata": {},
   "outputs": [
    {
     "name": "stdout",
     "output_type": "stream",
     "text": [
      "88\n",
      "not armstrong\n"
     ]
    }
   ],
   "source": [
    "def armstrong(n):\n",
    "    s=0\n",
    "    m=n\n",
    "    if(n!=0):\n",
    "        a=n%10\n",
    "        s=s+a**3\n",
    "        n=n/10\n",
    "    if(m==s):\n",
    "        print(\"armstrong\")\n",
    "    else:\n",
    "        print(\"not armstrong\")\n",
    "n=int(input())\n",
    "armstrong(n)"
   ]
  },
  {
   "cell_type": "markdown",
   "metadata": {},
   "source": [
    "### digital sum"
   ]
  },
  {
   "cell_type": "code",
   "execution_count": 12,
   "metadata": {},
   "outputs": [
    {
     "name": "stdout",
     "output_type": "stream",
     "text": [
      "111\n",
      "3\n"
     ]
    }
   ],
   "source": [
    "def digitalsum(n):\n",
    "    k=0\n",
    "    for i in range (0,n):\n",
    "        a=n%10\n",
    "        k=k+a\n",
    "        n=n//10\n",
    "    print(k)\n",
    "n=int(input())\n",
    "digitalsum(n)"
   ]
  },
  {
   "cell_type": "code",
   "execution_count": null,
   "metadata": {},
   "outputs": [],
   "source": []
  }
 ],
 "metadata": {
  "kernelspec": {
   "display_name": "Python 3",
   "language": "python",
   "name": "python3"
  }
 },
 "nbformat": 4,
 "nbformat_minor": 2
}
