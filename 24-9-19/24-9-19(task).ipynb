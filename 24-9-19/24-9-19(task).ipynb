{
 "cells": [
  {
   "cell_type": "markdown",
   "metadata": {},
   "source": [
    "### marks and grades"
   ]
  },
  {
   "cell_type": "code",
   "execution_count": 40,
   "metadata": {},
   "outputs": [
    {
     "name": "stdout",
     "output_type": "stream",
     "text": [
      "74\n",
      "B\n"
     ]
    }
   ],
   "source": [
    "def grade(n):\n",
    "    \n",
    "        if(n>80):\n",
    "            print(\"A\")            \n",
    "        elif(n>60):\n",
    "            print(\"B\")\n",
    "        elif(n>50):\n",
    "            print(\"C\")\n",
    "        elif(n>45):\n",
    "            print(\"D\")\n",
    "        elif(n>=25):\n",
    "            print(\"E\")\n",
    "        elif(n<25):             \n",
    "            print(\"F\")\n",
    "n=int(input())\n",
    "grade(n)"
   ]
  },
  {
   "cell_type": "markdown",
   "metadata": {},
   "source": [
    "### old and young age of people"
   ]
  },
  {
   "cell_type": "code",
   "execution_count": 18,
   "metadata": {},
   "outputs": [
    {
     "name": "stdout",
     "output_type": "stream",
     "text": [
      "34\n",
      "56\n",
      "89\n",
      "oldest 89\n",
      "young 34\n"
     ]
    }
   ],
   "source": [
    "def age():\n",
    "    if ram>sam and ram>mam:\n",
    "        oldest=ram\n",
    "    elif sam>ram and sam>mam:\n",
    "        oldest=sam\n",
    "    else:\n",
    "            oldest=mam\n",
    "    if ram<sam and ram<mam:\n",
    "            young=ram\n",
    "    elif sam<ram and sam<mam:\n",
    "            young=sam\n",
    "    else:\n",
    "            young=mam\n",
    "    print(\"oldest\",oldest)\n",
    "    print(\"young\",young)    \n",
    "ram=int(input())   \n",
    "sam=int(input())\n",
    "mam=int(input())\n",
    "age()\n"
   ]
  },
  {
   "cell_type": "markdown",
   "metadata": {},
   "source": [
    "### counting number of digits "
   ]
  },
  {
   "cell_type": "code",
   "execution_count": 4,
   "metadata": {},
   "outputs": [
    {
     "name": "stdout",
     "output_type": "stream",
     "text": [
      "4567\n",
      "4\n"
     ]
    }
   ],
   "source": [
    "def digit(n):\n",
    "    print(len(n))\n",
    "n=input()\n",
    "digit(n)"
   ]
  },
  {
   "cell_type": "markdown",
   "metadata": {},
   "source": [
    "### number present in given range"
   ]
  },
  {
   "cell_type": "code",
   "execution_count": 5,
   "metadata": {},
   "outputs": [
    {
     "name": "stdout",
     "output_type": "stream",
     "text": [
      "10\n",
      "20\n",
      "13\n",
      "number is present\n"
     ]
    }
   ],
   "source": [
    "def range(lb,ub,a):\n",
    "    if(lb<a<ub):\n",
    "        print(\"number is present\")\n",
    "    else:\n",
    "        print(\"number not present\")\n",
    "lb=int(input())\n",
    "ub=int(input())\n",
    "a=int(input())\n",
    "range(lb,ub,a)"
   ]
  },
  {
   "cell_type": "markdown",
   "metadata": {},
   "source": [
    "### factors of 1000"
   ]
  },
  {
   "cell_type": "code",
   "execution_count": 6,
   "metadata": {},
   "outputs": [
    {
     "name": "stdout",
     "output_type": "stream",
     "text": [
      "100\n",
      "it is factor of 1000\n"
     ]
    }
   ],
   "source": [
    "def factor(n):\n",
    "    if(1000%n==0):\n",
    "        print(\"it is factor of 1000\")\n",
    "    else:\n",
    "        print(\"not factor of 1000\")\n",
    "n=int(input())\n",
    "factor(n)"
   ]
  },
  {
   "cell_type": "markdown",
   "metadata": {},
   "source": [
    "### class attendence morethan 75%"
   ]
  },
  {
   "cell_type": "code",
   "execution_count": 19,
   "metadata": {},
   "outputs": [
    {
     "name": "stdout",
     "output_type": "stream",
     "text": [
      "90\n",
      "65\n",
      "not eligible\n"
     ]
    }
   ],
   "source": [
    "def attendence():\n",
    "    p=ca/ch*100\n",
    "    if(p>75):\n",
    "        print(\"eligible\")\n",
    "    else:\n",
    "        print(\"not eligible\")\n",
    "ch=int(input())\n",
    "ca=int(input())\n",
    "attendence()"
   ]
  },
  {
   "cell_type": "markdown",
   "metadata": {},
   "source": [
    "### squareroot of given number"
   ]
  },
  {
   "cell_type": "code",
   "execution_count": 21,
   "metadata": {},
   "outputs": [
    {
     "name": "stdout",
     "output_type": "stream",
     "text": [
      "4\n",
      "2.0\n"
     ]
    }
   ],
   "source": [
    "def squareroot(n):\n",
    "    x=n**0.5\n",
    "    print(x)\n",
    "n=int(input())\n",
    "squareroot(n)"
   ]
  },
  {
   "cell_type": "markdown",
   "metadata": {},
   "source": [
    "###  check if it is square or rectangle"
   ]
  },
  {
   "cell_type": "code",
   "execution_count": 23,
   "metadata": {},
   "outputs": [
    {
     "name": "stdout",
     "output_type": "stream",
     "text": [
      "4\n",
      "5\n",
      "7\n",
      "it is rectangle\n"
     ]
    }
   ],
   "source": [
    "def square():\n",
    "    if(a==b)and(b==c):\n",
    "        print(\"it is a square\")\n",
    "    else:\n",
    "        print(\"it is rectangle\")\n",
    "a=int(input())\n",
    "b=int(input())\n",
    "c=int(input())\n",
    "square()"
   ]
  },
  {
   "cell_type": "code",
   "execution_count": null,
   "metadata": {},
   "outputs": [],
   "source": []
  }
 ],
 "metadata": {
  "kernelspec": {
   "display_name": "Python 3",
   "language": "python",
   "name": "python3"
  },
  "language_info": {
   "codemirror_mode": {
    "name": "ipython",
    "version": 3
   },
   "file_extension": ".py",
   "mimetype": "text/x-python",
   "name": "python",
   "nbconvert_exporter": "python",
   "pygments_lexer": "ipython3",
   "version": "3.7.3"
  }
 },
 "nbformat": 4,
 "nbformat_minor": 2
}
