{
 "cells": [
  {
   "cell_type": "markdown",
   "metadata": {},
   "source": [
    "## handling csv files"
   ]
  },
  {
   "cell_type": "code",
   "execution_count": 5,
   "metadata": {},
   "outputs": [],
   "source": [
    "file=\"mstp.txt\"\n",
    "def name(file):\n",
    "    with open (file,'w') as f:\n",
    "        f.write(\"kvsw\"+\",\"+\"kvsr\"+\",\"+\"kvsm\")\n",
    "name(file)"
   ]
  },
  {
   "cell_type": "code",
   "execution_count": 6,
   "metadata": {},
   "outputs": [],
   "source": [
    "with open(file,'a')as f:\n",
    "    f.write(\"\\n\"+\"cse\"+\",\"+\"ece\"+\",\"+\"eee\")\n",
    "          "
   ]
  },
  {
   "cell_type": "code",
   "execution_count": 7,
   "metadata": {},
   "outputs": [],
   "source": [
    "s=\"\\nqwertyiop\"\n",
    "with open(file,'a') as f:\n",
    "    f.write(s)"
   ]
  },
  {
   "cell_type": "code",
   "execution_count": 8,
   "metadata": {},
   "outputs": [
    {
     "name": "stdout",
     "output_type": "stream",
     "text": [
      "kvsw,kvsr,kvsm\n",
      "cse,ece,eee\n",
      "qwertyiop\n"
     ]
    }
   ],
   "source": [
    "with open (file,'r') as f:\n",
    "    d=f.read()\n",
    "    print(d)\n",
    "    "
   ]
  },
  {
   "cell_type": "code",
   "execution_count": 2,
   "metadata": {},
   "outputs": [],
   "source": [
    "file1=\"contact1.txt\"\n",
    "with open(file1,'a')as s:\n",
    "    s.write(\"gayathri\"+\",\"+\"8464052803\"+\",\"+\"lekireddygayathri@gmail.com\")\n",
    "    s.write(\"\\nnandana\"+\",\"+\"9177619142\"+\",\"+\"nanduannagowni@gmail.com\")"
   ]
  },
  {
   "cell_type": "markdown",
   "metadata": {},
   "source": [
    "## csv to list"
   ]
  },
  {
   "cell_type": "code",
   "execution_count": 3,
   "metadata": {},
   "outputs": [
    {
     "name": "stdout",
     "output_type": "stream",
     "text": [
      "gayathri,8464052803,lekireddygayathri@gmail.com\n",
      "\n",
      "a\n"
     ]
    }
   ],
   "source": [
    "def csvtolist(file1):\n",
    "    with open(file1,'r')as s:\n",
    "        k=s.readline()\n",
    "        print(k)\n",
    "        print(k[1])\n",
    "csvtolist(file1)"
   ]
  },
  {
   "cell_type": "code",
   "execution_count": 4,
   "metadata": {},
   "outputs": [
    {
     "name": "stdout",
     "output_type": "stream",
     "text": [
      "[['gayathri', '8464052803', 'lekireddygayathri@gmail.com\\n'], ['nandana', '9177619142', 'nanduannagowni@gmail.com']]\n",
      "8464052803\n",
      "9177619142\n"
     ]
    }
   ],
   "source": [
    "file1=\"contact1.txt\"\n",
    "def csvtolist(file1):\n",
    "    l=[]\n",
    "    with open(file1,'r')as s:\n",
    "        for line in s:\n",
    "            l.append(line.split(\",\"))\n",
    "    print(l)\n",
    "    print(l[0][1])\n",
    "    print(l[1][1])\n",
    "csvtolist(file1)"
   ]
  },
  {
   "cell_type": "markdown",
   "metadata": {},
   "source": [
    "## list to csv\n",
    "    "
   ]
  },
  {
   "cell_type": "code",
   "execution_count": 5,
   "metadata": {},
   "outputs": [
    {
     "name": "stdout",
     "output_type": "stream",
     "text": [
      "gayathri,8464052803,lekireddygayathri@gmail.com\n",
      "nandana,9177619142,nanduannagowni@gmail.com\n"
     ]
    }
   ],
   "source": [
    "file1=\"contact1.txt\"\n",
    "def csvtolist(file1):\n",
    "    l=[]\n",
    "    with open(file1,'r')as s:\n",
    "        for line in s:\n",
    "            l.append(line.split(\",\"))\n",
    "    return l\n",
    "csvtolist(file1)\n",
    "def listtocsv(file1):\n",
    "    d=csvtolist(file1)\n",
    "    s=\"\"\n",
    "    for i in d:\n",
    "        s+=\",\".join(i)\n",
    "    print(s)\n",
    "listtocsv(file1)"
   ]
  },
  {
   "cell_type": "code",
   "execution_count": 8,
   "metadata": {},
   "outputs": [
    {
     "name": "stdout",
     "output_type": "stream",
     "text": [
      "contact already exists\n"
     ]
    }
   ],
   "source": [
    "import re\n",
    "def phonenumber(no):\n",
    "    pattern='^[0][6-9][0-9]{9}$|^[+][9][1][6789][0-9]{9}$|^[6-9][0-9]{9}$'\n",
    "    if re.match(pattern,no):\n",
    "        return 1\n",
    "    else:\n",
    "        return 0\n",
    "def email(n):\n",
    "    pattern='^([a-z]|[A-Z]|[0-9])([0-9]|[A-Z]|[a-z]|[_]){6,}([0-9]|[a-z])@[a-z]{2,10}[.][a-z]{2,4}$'\n",
    "    if re.match(pattern,n):\n",
    "        return True\n",
    "    else:\n",
    "        return False\n",
    "def searchcontact(name,file1):\n",
    "    r=csvtolist(file1)\n",
    "    for i in r:\n",
    "        if i[0]==name:\n",
    "            return 1\n",
    "    return 0\n",
    "searchcontact(\"janu\",\"contact1.txt\")\n",
    "def addcontact(name,no,n,file1):\n",
    "    if searchcontact(name,file1)==0:\n",
    "        if phonenumber(no)==1:\n",
    "            print(\"valid success\")\n",
    "            if email(n)==1:\n",
    "                print(\"email valid\")\n",
    "                with open(file1,'a') as p:\n",
    "                    p.write(name+\",\"+no+\",\"+n+\"\\n\")\n",
    "                    print(\"contact added successfully\")\n",
    "    else:\n",
    "        print(\"contact already exists\")\n",
    "addcontact(\"monu\",\"9581089228\",\"monishabegum@email.com\",\"contact1.txt\")"
   ]
  },
  {
   "cell_type": "code",
   "execution_count": null,
   "metadata": {},
   "outputs": [],
   "source": [
    "def searchcontact(name,file1):\n",
    "    r=csvtolist(file1)\n",
    "    for i in r:\n",
    "        if i[0]==name:\n",
    "            return 1\n",
    "        else:\n",
    "            return 0\n",
    "    if searchcontact(name,file1)==1"
   ]
  },
  {
   "cell_type": "markdown",
   "metadata": {},
   "source": [
    "# functional programming\n"
   ]
  },
  {
   "cell_type": "markdown",
   "metadata": {},
   "source": [
    "## list or dict or sets or tuples"
   ]
  },
  {
   "cell_type": "code",
   "execution_count": 10,
   "metadata": {},
   "outputs": [
    {
     "name": "stdout",
     "output_type": "stream",
     "text": [
      "10\n",
      "1 2 3 4 5 6 7 8 9 10 "
     ]
    }
   ],
   "source": [
    "### print n natural number\n",
    "n=int(input())\n",
    "for i in range(1,n+1):\n",
    "    print(i,end=\" \")"
   ]
  },
  {
   "cell_type": "code",
   "execution_count": null,
   "metadata": {},
   "outputs": [],
   "source": [
    "### list comprehension\n",
    "#-->expression for(loop) list in item condition"
   ]
  },
  {
   "cell_type": "code",
   "execution_count": 11,
   "metadata": {},
   "outputs": [
    {
     "name": "stdout",
     "output_type": "stream",
     "text": [
      "8\n",
      "[1, 2, 3, 4, 5, 6, 7, 8]\n"
     ]
    }
   ],
   "source": [
    "n=int(input())\n",
    "d=[i for i in range(1,n+1)]\n",
    "print(d)"
   ]
  },
  {
   "cell_type": "code",
   "execution_count": 12,
   "metadata": {},
   "outputs": [
    {
     "name": "stdout",
     "output_type": "stream",
     "text": [
      "['a', 'p', 's', 's', 'd', 'c']\n"
     ]
    }
   ],
   "source": [
    "x=\"apssdc\"\n",
    "l=[s for s in x]\n",
    "print(l)"
   ]
  },
  {
   "cell_type": "code",
   "execution_count": 13,
   "metadata": {},
   "outputs": [
    {
     "name": "stdout",
     "output_type": "stream",
     "text": [
      "GOOGLE.COM\n"
     ]
    }
   ],
   "source": [
    "s=\"google.com\"\n",
    "n=s.upper()\n",
    "print(n)"
   ]
  },
  {
   "cell_type": "code",
   "execution_count": 17,
   "metadata": {},
   "outputs": [
    {
     "name": "stdout",
     "output_type": "stream",
     "text": [
      "['G', 'O', 'O', 'G', 'L', 'E', '.', 'C', 'O', 'M']\n"
     ]
    }
   ],
   "source": [
    "d=[i.upper() for i in s]\n",
    "print(d)"
   ]
  },
  {
   "cell_type": "code",
   "execution_count": 24,
   "metadata": {},
   "outputs": [
    {
     "name": "stdout",
     "output_type": "stream",
     "text": [
      "['a', 'd'] ['1', '2', '3', '4']\n"
     ]
    }
   ],
   "source": [
    "x=\"12ad34\"\n",
    "l1=[n for n in x if n.isalpha()]\n",
    "l2=[n for n in x if n.isdigit()]\n",
    "print(l1,l2)"
   ]
  },
  {
   "cell_type": "code",
   "execution_count": 3,
   "metadata": {},
   "outputs": [
    {
     "name": "stdout",
     "output_type": "stream",
     "text": [
      "10\n",
      "1.0\n",
      "1.4142135623730951\n",
      "1.7320508075688772\n",
      "2.0\n",
      "2.23606797749979\n",
      "2.449489742783178\n",
      "2.6457513110645907\n",
      "2.8284271247461903\n",
      "3.0\n",
      "3.1622776601683795\n"
     ]
    }
   ],
   "source": [
    "n=int(input())\n",
    "l=[]\n",
    "for i in range(1,n+1):\n",
    "    i=i**0.5\n",
    "    print(i)"
   ]
  },
  {
   "cell_type": "code",
   "execution_count": 4,
   "metadata": {},
   "outputs": [
    {
     "name": "stdout",
     "output_type": "stream",
     "text": [
      "10\n",
      "[1.0, 1.4142135623730951, 1.7320508075688772, 2.0, 2.23606797749979, 2.449489742783178, 2.6457513110645907, 2.8284271247461903, 3.0, 3.1622776601683795]\n"
     ]
    }
   ],
   "source": [
    "# print first 10 numbers sqrt in alist\n",
    "n=int(input())\n",
    "j=[i**0.5 for i in range(1,n+1)]\n",
    "print(j)"
   ]
  },
  {
   "cell_type": "code",
   "execution_count": 6,
   "metadata": {},
   "outputs": [
    {
     "name": "stdout",
     "output_type": "stream",
     "text": [
      "5\n",
      "[1.0, 1.4142135623730951, 1.7320508075688772, 2.0, 2.23606797749979]\n"
     ]
    }
   ],
   "source": [
    "import math\n",
    "n=int(input())\n",
    "l=[]\n",
    "for i in range(1,n+1):\n",
    "    l.append(math.sqrt(i))\n",
    "print(l)"
   ]
  },
  {
   "cell_type": "code",
   "execution_count": null,
   "metadata": {},
   "outputs": [],
   "source": [
    "li=[]"
   ]
  },
  {
   "cell_type": "code",
   "execution_count": 13,
   "metadata": {},
   "outputs": [
    {
     "name": "stdout",
     "output_type": "stream",
     "text": [
      "21\n",
      "30\n",
      "[441, 484, 529, 576, 625, 676, 729, 784, 841, 900]\n"
     ]
    }
   ],
   "source": [
    "n=int(input())\n",
    "s=int(input())\n",
    "d=[i**2 for i in range(n,s+1)]\n",
    "print(d)"
   ]
  },
  {
   "cell_type": "code",
   "execution_count": 14,
   "metadata": {},
   "outputs": [
    {
     "name": "stdout",
     "output_type": "stream",
     "text": [
      "41\n",
      "50\n",
      "[68921, 74088, 79507, 85184, 91125, 97336, 103823, 110592, 117649, 125000]\n"
     ]
    }
   ],
   "source": [
    "n=int(input())\n",
    "s=int(input())\n",
    "d=[i**3 for i in range(n,s+1)]\n",
    "print(d)"
   ]
  },
  {
   "cell_type": "code",
   "execution_count": 28,
   "metadata": {},
   "outputs": [
    {
     "name": "stdout",
     "output_type": "stream",
     "text": [
      "[1, 2, 6, 24, 120]\n"
     ]
    }
   ],
   "source": [
    "#factorial of number\n",
    "def factorial(n):\n",
    "    fact=1\n",
    "    l=[]\n",
    "    for i in range(1,n+1):\n",
    "        fact=fact*i\n",
    "        l.append(fact)\n",
    "    print(l)\n",
    "factorial(5)\n"
   ]
  },
  {
   "cell_type": "code",
   "execution_count": 30,
   "metadata": {},
   "outputs": [
    {
     "name": "stdout",
     "output_type": "stream",
     "text": [
      "[]\n",
      "[1]\n",
      "[1, 2]\n",
      "[1, 2, 6]\n",
      "[1, 2, 6, 24]\n"
     ]
    }
   ],
   "source": [
    "k=[factorial(i) for i in range(5)]"
   ]
  },
  {
   "cell_type": "code",
   "execution_count": null,
   "metadata": {},
   "outputs": [],
   "source": [
    "#even or odd\n",
    "n=int(input())\n",
    "s=int(input())\n",
    "f1=[d for i in range(n,s+1) if n%2==0 ]\n",
    "print(f1)"
   ]
  },
  {
   "cell_type": "code",
   "execution_count": null,
   "metadata": {},
   "outputs": [],
   "source": []
  }
 ],
 "metadata": {
  "kernelspec": {
   "display_name": "Python 3",
   "language": "python",
   "name": "python3"
  },
  "language_info": {
   "codemirror_mode": {
    "name": "ipython",
    "version": 3
   },
   "file_extension": ".py",
   "mimetype": "text/x-python",
   "name": "python",
   "nbconvert_exporter": "python",
   "pygments_lexer": "ipython3",
   "version": "3.7.3"
  }
 },
 "nbformat": 4,
 "nbformat_minor": 2
}
