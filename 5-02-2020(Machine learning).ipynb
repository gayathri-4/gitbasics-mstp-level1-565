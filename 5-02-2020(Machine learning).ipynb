{
 "cells": [
  {
   "cell_type": "markdown",
   "metadata": {},
   "source": [
    "## Machine learning:"
   ]
  },
  {
   "cell_type": "markdown",
   "metadata": {},
   "source": [
    "### Machine learning:Machine learning is not just a simple algorithm which you can put anywhere and start getting results.It is a process that starts with defining data ,and ends with the model with some defined level of accuracy"
   ]
  },
  {
   "cell_type": "markdown",
   "metadata": {},
   "source": [
    "### Steps involved in machinelearning"
   ]
  },
  {
   "cell_type": "markdown",
   "metadata": {},
   "source": [
    "#### 1.Defining the problem(P,E,T) PERFORMANCE,EXPERIENCE,TASK\n",
    "#### 2.Collecting the data \n",
    "#### 3.prepare the data\n",
    "#### 4.Split the data in training and testing\n",
    "#### 5.Algorithm Selection\n",
    "#### 6.Training the algorith\n",
    "#### 7.Evaluation on test data\n",
    "#### 8.Parameter tuning\n",
    "#### 9.Start using your model"
   ]
  },
  {
   "cell_type": "markdown",
   "metadata": {},
   "source": [
    "## Machinelearning types"
   ]
  },
  {
   "cell_type": "markdown",
   "metadata": {},
   "source": [
    "#### 1.supervised learning\n",
    "####  2.un supervised learning\n",
    "####  3.rainforcement learning"
   ]
  },
  {
   "cell_type": "code",
   "execution_count": 2,
   "metadata": {},
   "outputs": [
    {
     "ename": "IndentationError",
     "evalue": "unindent does not match any outer indentation level (<tokenize>, line 3)",
     "output_type": "error",
     "traceback": [
      "\u001b[1;36m  File \u001b[1;32m\"<tokenize>\"\u001b[1;36m, line \u001b[1;32m3\u001b[0m\n\u001b[1;33m    1.Classification           1.clustering             1. software component learns to react to an environment 2.Regression          ###1.Clustering\u001b[0m\n\u001b[1;37m    ^\u001b[0m\n\u001b[1;31mIndentationError\u001b[0m\u001b[1;31m:\u001b[0m unindent does not match any outer indentation level\n"
     ]
    }
   ],
   "source": [
    "                          ### Types of machinelearning\n",
    "    supervised learning    unsupervisedlearning         reinforcement learning\n",
    " 1.Classification           1.clustering             1. software component learns to react to an environment 2.Regression          ###1.Clustering\n",
    " 2..Regression              2.association"
   ]
  },
  {
   "cell_type": "markdown",
   "metadata": {},
   "source": [
    "### Algorithms"
   ]
  },
  {
   "cell_type": "code",
   "execution_count": 4,
   "metadata": {},
   "outputs": [
    {
     "ename": "IndentationError",
     "evalue": "unindent does not match any outer indentation level (<tokenize>, line 3)",
     "output_type": "error",
     "traceback": [
      "\u001b[1;36m  File \u001b[1;32m\"<tokenize>\"\u001b[1;36m, line \u001b[1;32m3\u001b[0m\n\u001b[1;33m    Classification          Regression                 clustering\u001b[0m\n\u001b[1;37m    ^\u001b[0m\n\u001b[1;31mIndentationError\u001b[0m\u001b[1;31m:\u001b[0m unindent does not match any outer indentation level\n"
     ]
    }
   ],
   "source": [
    "            Supervised                             Un supervised\n",
    "           Task Driven                              Data driven\n",
    "    Classification          Regression                 clustering\n",
    "     Algorithm examples:\n",
    "   1. Decision Trees        1. simple Linear               1.k-means\n",
    "   2. Bayesian Networks      2.Lasso Regression            2.Mean-Shift\n",
    " 3.Support vector Machines    3.logistic regression        3.Gaussian Mixture\n",
    " 4. Random forest             4.multiple regression         4.EM_Clustering\n",
    " 5.Neural Networks          5.Boosting                     5.Hierarchial-clustering"
   ]
  },
  {
   "cell_type": "markdown",
   "metadata": {},
   "source": [
    "### Regression"
   ]
  },
  {
   "cell_type": "markdown",
   "metadata": {},
   "source": [
    "####  y=m(x)+c  (or) y=b1x+b0  b1=slope and b0=intercept\n",
    "####  y=Dependent variable\n",
    "####  x=independent variable\n",
    "####   c=coefficient /intercept\n",
    "####   m=slope"
   ]
  },
  {
   "cell_type": "markdown",
   "metadata": {},
   "source": [
    "### Root mean square:\n",
    "#### sumation(X-xmean of x)(y-(mean of y))/sumation(x-(mean of x))^2\n",
    "### r2 score value:\n",
    "#### sumation(ypredicted-mean of y)^2/sumation(y-mean of y)^2"
   ]
  },
  {
   "cell_type": "markdown",
   "metadata": {},
   "source": [
    "### Mean Square error: (mse)\n",
    "##### mse(x,h(theta))=1/m summation(theta(transpose).x(i)-y(i))^2"
   ]
  },
  {
   "cell_type": "code",
   "execution_count": 8,
   "metadata": {},
   "outputs": [],
   "source": [
    "import pandas as pd\n",
    "import numpy as np\n",
    "import matplotlib.pyplot as plt"
   ]
  },
  {
   "cell_type": "markdown",
   "metadata": {},
   "source": [
    "### Reading the data"
   ]
  },
  {
   "cell_type": "code",
   "execution_count": 9,
   "metadata": {},
   "outputs": [
    {
     "data": {
      "text/html": [
       "<div>\n",
       "<style scoped>\n",
       "    .dataframe tbody tr th:only-of-type {\n",
       "        vertical-align: middle;\n",
       "    }\n",
       "\n",
       "    .dataframe tbody tr th {\n",
       "        vertical-align: top;\n",
       "    }\n",
       "\n",
       "    .dataframe thead th {\n",
       "        text-align: right;\n",
       "    }\n",
       "</style>\n",
       "<table border=\"1\" class=\"dataframe\">\n",
       "  <thead>\n",
       "    <tr style=\"text-align: right;\">\n",
       "      <th></th>\n",
       "      <th>Unnamed: 0</th>\n",
       "      <th>TV</th>\n",
       "      <th>radio</th>\n",
       "      <th>newspaper</th>\n",
       "      <th>sales</th>\n",
       "    </tr>\n",
       "  </thead>\n",
       "  <tbody>\n",
       "    <tr>\n",
       "      <th>195</th>\n",
       "      <td>196</td>\n",
       "      <td>38.2</td>\n",
       "      <td>3.7</td>\n",
       "      <td>13.8</td>\n",
       "      <td>7.6</td>\n",
       "    </tr>\n",
       "    <tr>\n",
       "      <th>196</th>\n",
       "      <td>197</td>\n",
       "      <td>94.2</td>\n",
       "      <td>4.9</td>\n",
       "      <td>8.1</td>\n",
       "      <td>9.7</td>\n",
       "    </tr>\n",
       "    <tr>\n",
       "      <th>197</th>\n",
       "      <td>198</td>\n",
       "      <td>177.0</td>\n",
       "      <td>9.3</td>\n",
       "      <td>6.4</td>\n",
       "      <td>12.8</td>\n",
       "    </tr>\n",
       "    <tr>\n",
       "      <th>198</th>\n",
       "      <td>199</td>\n",
       "      <td>283.6</td>\n",
       "      <td>42.0</td>\n",
       "      <td>66.2</td>\n",
       "      <td>25.5</td>\n",
       "    </tr>\n",
       "    <tr>\n",
       "      <th>199</th>\n",
       "      <td>200</td>\n",
       "      <td>232.1</td>\n",
       "      <td>8.6</td>\n",
       "      <td>8.7</td>\n",
       "      <td>13.4</td>\n",
       "    </tr>\n",
       "  </tbody>\n",
       "</table>\n",
       "</div>"
      ],
      "text/plain": [
       "     Unnamed: 0     TV  radio  newspaper  sales\n",
       "195         196   38.2    3.7       13.8    7.6\n",
       "196         197   94.2    4.9        8.1    9.7\n",
       "197         198  177.0    9.3        6.4   12.8\n",
       "198         199  283.6   42.0       66.2   25.5\n",
       "199         200  232.1    8.6        8.7   13.4"
      ]
     },
     "execution_count": 9,
     "metadata": {},
     "output_type": "execute_result"
    }
   ],
   "source": [
    "data=pd.read_csv(\"Advertising.csv\")\n",
    "data.tail()"
   ]
  },
  {
   "cell_type": "code",
   "execution_count": 10,
   "metadata": {},
   "outputs": [
    {
     "data": {
      "text/html": [
       "<div>\n",
       "<style scoped>\n",
       "    .dataframe tbody tr th:only-of-type {\n",
       "        vertical-align: middle;\n",
       "    }\n",
       "\n",
       "    .dataframe tbody tr th {\n",
       "        vertical-align: top;\n",
       "    }\n",
       "\n",
       "    .dataframe thead th {\n",
       "        text-align: right;\n",
       "    }\n",
       "</style>\n",
       "<table border=\"1\" class=\"dataframe\">\n",
       "  <thead>\n",
       "    <tr style=\"text-align: right;\">\n",
       "      <th></th>\n",
       "      <th>TV</th>\n",
       "      <th>radio</th>\n",
       "      <th>newspaper</th>\n",
       "      <th>sales</th>\n",
       "    </tr>\n",
       "  </thead>\n",
       "  <tbody>\n",
       "    <tr>\n",
       "      <th>195</th>\n",
       "      <td>38.2</td>\n",
       "      <td>3.7</td>\n",
       "      <td>13.8</td>\n",
       "      <td>7.6</td>\n",
       "    </tr>\n",
       "    <tr>\n",
       "      <th>196</th>\n",
       "      <td>94.2</td>\n",
       "      <td>4.9</td>\n",
       "      <td>8.1</td>\n",
       "      <td>9.7</td>\n",
       "    </tr>\n",
       "    <tr>\n",
       "      <th>197</th>\n",
       "      <td>177.0</td>\n",
       "      <td>9.3</td>\n",
       "      <td>6.4</td>\n",
       "      <td>12.8</td>\n",
       "    </tr>\n",
       "    <tr>\n",
       "      <th>198</th>\n",
       "      <td>283.6</td>\n",
       "      <td>42.0</td>\n",
       "      <td>66.2</td>\n",
       "      <td>25.5</td>\n",
       "    </tr>\n",
       "    <tr>\n",
       "      <th>199</th>\n",
       "      <td>232.1</td>\n",
       "      <td>8.6</td>\n",
       "      <td>8.7</td>\n",
       "      <td>13.4</td>\n",
       "    </tr>\n",
       "  </tbody>\n",
       "</table>\n",
       "</div>"
      ],
      "text/plain": [
       "        TV  radio  newspaper  sales\n",
       "195   38.2    3.7       13.8    7.6\n",
       "196   94.2    4.9        8.1    9.7\n",
       "197  177.0    9.3        6.4   12.8\n",
       "198  283.6   42.0       66.2   25.5\n",
       "199  232.1    8.6        8.7   13.4"
      ]
     },
     "execution_count": 10,
     "metadata": {},
     "output_type": "execute_result"
    }
   ],
   "source": [
    "data.drop(\"Unnamed: 0\",axis=1,inplace=True)\n",
    "data.tail()"
   ]
  },
  {
   "cell_type": "code",
   "execution_count": 11,
   "metadata": {},
   "outputs": [
    {
     "name": "stdout",
     "output_type": "stream",
     "text": [
      "(200,)\n"
     ]
    },
    {
     "data": {
      "text/plain": [
       "array([230.1,  44.5,  17.2, 151.5, 180.8,   8.7,  57.5, 120.2,   8.6,\n",
       "       199.8,  66.1, 214.7,  23.8,  97.5, 204.1, 195.4,  67.8, 281.4,\n",
       "        69.2, 147.3, 218.4, 237.4,  13.2, 228.3,  62.3, 262.9, 142.9,\n",
       "       240.1, 248.8,  70.6, 292.9, 112.9,  97.2, 265.6,  95.7, 290.7,\n",
       "       266.9,  74.7,  43.1, 228. , 202.5, 177. , 293.6, 206.9,  25.1,\n",
       "       175.1,  89.7, 239.9, 227.2,  66.9, 199.8, 100.4, 216.4, 182.6,\n",
       "       262.7, 198.9,   7.3, 136.2, 210.8, 210.7,  53.5, 261.3, 239.3,\n",
       "       102.7, 131.1,  69. ,  31.5, 139.3, 237.4, 216.8, 199.1, 109.8,\n",
       "        26.8, 129.4, 213.4,  16.9,  27.5, 120.5,   5.4, 116. ,  76.4,\n",
       "       239.8,  75.3,  68.4, 213.5, 193.2,  76.3, 110.7,  88.3, 109.8,\n",
       "       134.3,  28.6, 217.7, 250.9, 107.4, 163.3, 197.6, 184.9, 289.7,\n",
       "       135.2, 222.4, 296.4, 280.2, 187.9, 238.2, 137.9,  25. ,  90.4,\n",
       "        13.1, 255.4, 225.8, 241.7, 175.7, 209.6,  78.2,  75.1, 139.2,\n",
       "        76.4, 125.7,  19.4, 141.3,  18.8, 224. , 123.1, 229.5,  87.2,\n",
       "         7.8,  80.2, 220.3,  59.6,   0.7, 265.2,   8.4, 219.8,  36.9,\n",
       "        48.3,  25.6, 273.7,  43. , 184.9,  73.4, 193.7, 220.5, 104.6,\n",
       "        96.2, 140.3, 240.1, 243.2,  38. ,  44.7, 280.7, 121. , 197.6,\n",
       "       171.3, 187.8,   4.1,  93.9, 149.8,  11.7, 131.7, 172.5,  85.7,\n",
       "       188.4, 163.5, 117.2, 234.5,  17.9, 206.8, 215.4, 284.3,  50. ,\n",
       "       164.5,  19.6, 168.4, 222.4, 276.9, 248.4, 170.2, 276.7, 165.6,\n",
       "       156.6, 218.5,  56.2, 287.6, 253.8, 205. , 139.5, 191.1, 286. ,\n",
       "        18.7,  39.5,  75.5,  17.2, 166.8, 149.7,  38.2,  94.2, 177. ,\n",
       "       283.6, 232.1])"
      ]
     },
     "execution_count": 11,
     "metadata": {},
     "output_type": "execute_result"
    }
   ],
   "source": [
    "x=data[\"TV\"].values\n",
    "print(x.shape)\n",
    "x"
   ]
  },
  {
   "cell_type": "code",
   "execution_count": 12,
   "metadata": {},
   "outputs": [
    {
     "name": "stdout",
     "output_type": "stream",
     "text": [
      "(200,)\n"
     ]
    },
    {
     "data": {
      "text/plain": [
       "array([22.1, 10.4,  9.3, 18.5, 12.9,  7.2, 11.8, 13.2,  4.8, 10.6,  8.6,\n",
       "       17.4,  9.2,  9.7, 19. , 22.4, 12.5, 24.4, 11.3, 14.6, 18. , 12.5,\n",
       "        5.6, 15.5,  9.7, 12. , 15. , 15.9, 18.9, 10.5, 21.4, 11.9,  9.6,\n",
       "       17.4,  9.5, 12.8, 25.4, 14.7, 10.1, 21.5, 16.6, 17.1, 20.7, 12.9,\n",
       "        8.5, 14.9, 10.6, 23.2, 14.8,  9.7, 11.4, 10.7, 22.6, 21.2, 20.2,\n",
       "       23.7,  5.5, 13.2, 23.8, 18.4,  8.1, 24.2, 15.7, 14. , 18. ,  9.3,\n",
       "        9.5, 13.4, 18.9, 22.3, 18.3, 12.4,  8.8, 11. , 17. ,  8.7,  6.9,\n",
       "       14.2,  5.3, 11. , 11.8, 12.3, 11.3, 13.6, 21.7, 15.2, 12. , 16. ,\n",
       "       12.9, 16.7, 11.2,  7.3, 19.4, 22.2, 11.5, 16.9, 11.7, 15.5, 25.4,\n",
       "       17.2, 11.7, 23.8, 14.8, 14.7, 20.7, 19.2,  7.2,  8.7,  5.3, 19.8,\n",
       "       13.4, 21.8, 14.1, 15.9, 14.6, 12.6, 12.2,  9.4, 15.9,  6.6, 15.5,\n",
       "        7. , 11.6, 15.2, 19.7, 10.6,  6.6,  8.8, 24.7,  9.7,  1.6, 12.7,\n",
       "        5.7, 19.6, 10.8, 11.6,  9.5, 20.8,  9.6, 20.7, 10.9, 19.2, 20.1,\n",
       "       10.4, 11.4, 10.3, 13.2, 25.4, 10.9, 10.1, 16.1, 11.6, 16.6, 19. ,\n",
       "       15.6,  3.2, 15.3, 10.1,  7.3, 12.9, 14.4, 13.3, 14.9, 18. , 11.9,\n",
       "       11.9,  8. , 12.2, 17.1, 15. ,  8.4, 14.5,  7.6, 11.7, 11.5, 27. ,\n",
       "       20.2, 11.7, 11.8, 12.6, 10.5, 12.2,  8.7, 26.2, 17.6, 22.6, 10.3,\n",
       "       17.3, 15.9,  6.7, 10.8,  9.9,  5.9, 19.6, 17.3,  7.6,  9.7, 12.8,\n",
       "       25.5, 13.4])"
      ]
     },
     "execution_count": 12,
     "metadata": {},
     "output_type": "execute_result"
    }
   ],
   "source": [
    "y=data[\"sales\"].values\n",
    "print(y.shape)\n",
    "y"
   ]
  },
  {
   "cell_type": "markdown",
   "metadata": {},
   "source": [
    "### Mean calculations"
   ]
  },
  {
   "cell_type": "code",
   "execution_count": 13,
   "metadata": {},
   "outputs": [
    {
     "name": "stdout",
     "output_type": "stream",
     "text": [
      "x mean : 147.0425\n",
      "y mean : 14.0225\n"
     ]
    }
   ],
   "source": [
    "x_mean=np.mean(x)\n",
    "print(\"x mean :\",x_mean)\n",
    "y_mean=np.mean(y)\n",
    "print(\"y mean :\",y_mean)"
   ]
  },
  {
   "cell_type": "markdown",
   "metadata": {},
   "source": [
    "### Calculating error"
   ]
  },
  {
   "cell_type": "code",
   "execution_count": 14,
   "metadata": {},
   "outputs": [
    {
     "name": "stdout",
     "output_type": "stream",
     "text": [
      "200\n",
      "slope: 0.04753664043301969\n",
      "intercept : 7.032593549127704\n"
     ]
    }
   ],
   "source": [
    "n=len(x)\n",
    "print(n)\n",
    "numer=0\n",
    "denom=0\n",
    "for i in range(n):\n",
    "    numer+=(x[i]-x_mean)*(y[i]-y_mean)\n",
    "    denom+=(x[i]-x_mean)**2\n",
    "b1=numer/denom\n",
    "b0=y_mean-(b1*x_mean)\n",
    "print(\"slope:\",b1)\n",
    "print(\"intercept :\",b0)"
   ]
  },
  {
   "cell_type": "markdown",
   "metadata": {},
   "source": [
    "## y=mx+c"
   ]
  },
  {
   "cell_type": "code",
   "execution_count": 15,
   "metadata": {},
   "outputs": [
    {
     "name": "stdout",
     "output_type": "stream",
     "text": [
      "linear Equation :y=0.047537x+7.033\n"
     ]
    }
   ],
   "source": [
    "print(\"linear Equation :y={:.5}x+{:.4}\".format(b1,b0))"
   ]
  },
  {
   "cell_type": "code",
   "execution_count": 16,
   "metadata": {},
   "outputs": [
    {
     "name": "stdout",
     "output_type": "stream",
     "text": [
      "[17.97077451  9.14797405  7.85022376 14.23439457 15.62721814  7.44616232\n",
      "  9.76595037 12.74649773  7.44140866 16.53041431 10.17476548 17.23871025\n",
      "  8.16396559 11.66741599 16.73482186 16.32125309 10.25557777 20.40940417\n",
      " 10.32212907 14.03474068 17.41459582 18.31779199  7.6600772  17.88520856\n",
      "  9.99412625 19.52997632 13.82557947 18.44614092 18.85970969 10.38868036\n",
      " 20.95607553 12.39948025 11.653155   19.65832525 11.58185004 20.85149492\n",
      " 19.72012288 10.58358059  9.08142275 17.87094757 16.65876324 15.44657891\n",
      " 20.98935118 16.86792445  8.22576322 15.35625929 11.2966302  18.43663359\n",
      " 17.83291826 10.21279479 16.53041431 11.80527225 17.31952254 15.71278409\n",
      " 19.52046899 16.48763133  7.37961102 13.50708398 17.05331735 17.04856369\n",
      "  9.57580381 19.45391769 18.4081116  11.91460652 13.26464711 10.31262174\n",
      "  8.52999772 13.65444756 18.31779199 17.3385372  16.49713866 12.25211667\n",
      "  8.30657551 13.18383482 17.17691262  7.83596277  8.33985116 12.76075872\n",
      "  7.28929141 12.54684384 10.66439288 18.43187992 10.61210257 10.28409975\n",
      " 17.18166628 16.21667248 10.65963921 12.29489965 11.2300789  12.25211667\n",
      " 13.41676436  8.39214147 17.38132017 18.95953663 12.13802873 14.79532693\n",
      " 16.4258337  15.82211837 20.80395828 13.45954734 17.60474238 21.12245377\n",
      " 20.3523602  15.96472829 18.3558213  13.58789626  8.22100956 11.32990584\n",
      "  7.65532354 19.17345152 17.76636696 18.52219954 15.38478127 16.99627338\n",
      " 10.74995883 10.60259525 13.6496939  10.66439288 13.00794925  7.95480437\n",
      " 13.74952084  7.92628239 17.68080101 12.88435399 17.94225253 11.17778859\n",
      "  7.40337934 10.84503211 17.50491544  9.86577732  7.0658692  19.63931059\n",
      "  7.43190133 17.48114712  8.78669558  9.32861328  8.24953154 20.04337204\n",
      "  9.07666909 15.82211837 10.52178296 16.2404408  17.51442276 12.00492614\n",
      " 11.60561836 13.7019842  18.44614092 18.5935045   8.83898589  9.15748138\n",
      " 20.37612852 12.78452704 16.4258337  15.17562006 15.95997462  7.22749377\n",
      " 11.49628409 14.15358229  7.58877224 13.29316909 15.23266402 11.10648363\n",
      " 15.98849661 14.80483426 12.60388781 18.17993573  7.88349941 16.86317079\n",
      " 17.2719859  20.54726042  9.40942557 14.8523709   7.9643117  15.0377638\n",
      " 17.60474238 20.19548929 18.84069503 15.12332975 20.18598196 14.9046612\n",
      " 14.47683144 17.41934948  9.70415274 20.70413134 19.09739289 16.77760484\n",
      " 13.66395489 16.11684554 20.62807271  7.92152873  8.91029085 10.6216099\n",
      "  7.85022376 14.96170517 14.14882862  8.84849321 11.51054508 15.44657891\n",
      " 20.51398478 18.06584779]\n"
     ]
    }
   ],
   "source": [
    "y=b1*x+b0\n",
    "print(y)"
   ]
  },
  {
   "cell_type": "code",
   "execution_count": 17,
   "metadata": {},
   "outputs": [
    {
     "name": "stdout",
     "output_type": "stream",
     "text": [
      "[17.97077451  9.14797405  7.85022376 14.23439457 15.62721814  7.44616232\n",
      "  9.76595037 12.74649773  7.44140866 16.53041431 10.17476548 17.23871025\n",
      "  8.16396559 11.66741599 16.73482186 16.32125309 10.25557777 20.40940417\n",
      " 10.32212907 14.03474068 17.41459582 18.31779199  7.6600772  17.88520856\n",
      "  9.99412625 19.52997632 13.82557947 18.44614092 18.85970969 10.38868036\n",
      " 20.95607553 12.39948025 11.653155   19.65832525 11.58185004 20.85149492\n",
      " 19.72012288 10.58358059  9.08142275 17.87094757 16.65876324 15.44657891\n",
      " 20.98935118 16.86792445  8.22576322 15.35625929 11.2966302  18.43663359\n",
      " 17.83291826 10.21279479 16.53041431 11.80527225 17.31952254 15.71278409\n",
      " 19.52046899 16.48763133  7.37961102 13.50708398 17.05331735 17.04856369\n",
      "  9.57580381 19.45391769 18.4081116  11.91460652 13.26464711 10.31262174\n",
      "  8.52999772 13.65444756 18.31779199 17.3385372  16.49713866 12.25211667\n",
      "  8.30657551 13.18383482 17.17691262  7.83596277  8.33985116 12.76075872\n",
      "  7.28929141 12.54684384 10.66439288 18.43187992 10.61210257 10.28409975\n",
      " 17.18166628 16.21667248 10.65963921 12.29489965 11.2300789  12.25211667\n",
      " 13.41676436  8.39214147 17.38132017 18.95953663 12.13802873 14.79532693\n",
      " 16.4258337  15.82211837 20.80395828 13.45954734 17.60474238 21.12245377\n",
      " 20.3523602  15.96472829 18.3558213  13.58789626  8.22100956 11.32990584\n",
      "  7.65532354 19.17345152 17.76636696 18.52219954 15.38478127 16.99627338\n",
      " 10.74995883 10.60259525 13.6496939  10.66439288 13.00794925  7.95480437\n",
      " 13.74952084  7.92628239 17.68080101 12.88435399 17.94225253 11.17778859\n",
      "  7.40337934 10.84503211 17.50491544  9.86577732  7.0658692  19.63931059\n",
      "  7.43190133 17.48114712  8.78669558  9.32861328  8.24953154 20.04337204\n",
      "  9.07666909 15.82211837 10.52178296 16.2404408  17.51442276 12.00492614\n",
      " 11.60561836 13.7019842  18.44614092 18.5935045   8.83898589  9.15748138\n",
      " 20.37612852 12.78452704 16.4258337  15.17562006 15.95997462  7.22749377\n",
      " 11.49628409 14.15358229  7.58877224 13.29316909 15.23266402 11.10648363\n",
      " 15.98849661 14.80483426 12.60388781 18.17993573  7.88349941 16.86317079\n",
      " 17.2719859  20.54726042  9.40942557 14.8523709   7.9643117  15.0377638\n",
      " 17.60474238 20.19548929 18.84069503 15.12332975 20.18598196 14.9046612\n",
      " 14.47683144 17.41934948  9.70415274 20.70413134 19.09739289 16.77760484\n",
      " 13.66395489 16.11684554 20.62807271  7.92152873  8.91029085 10.6216099\n",
      "  7.85022376 14.96170517 14.14882862  8.84849321 11.51054508 15.44657891\n",
      " 20.51398478 18.06584779]\n"
     ]
    }
   ],
   "source": [
    "y_predict=b1*x+b0\n",
    "print(y_predict)"
   ]
  },
  {
   "cell_type": "markdown",
   "metadata": {},
   "source": [
    "### R2 score"
   ]
  },
  {
   "cell_type": "code",
   "execution_count": 18,
   "metadata": {},
   "outputs": [
    {
     "name": "stdout",
     "output_type": "stream",
     "text": [
      "r2 score: [ 0.05938658 -0.43370983 -1.29872595  0.99729083  0.8446204  -1.60954445\n",
      " -0.09323088  0.9017575  -1.6133184   0.62049118  0.10668076  0.37585521\n",
      " -1.07097311  0.66533577  0.55610634  0.68115388  0.1438107  -1.46137219\n",
      "  0.17379654  0.99999096  0.3057231  -0.11322224 -1.44253919  0.09971426\n",
      "  0.02083472 -0.83021355  0.9976602  -0.18074529 -0.41184272  0.20324789\n",
      " -1.90075461  0.84105602  0.66127044 -0.91651193  0.64057566 -1.81390913\n",
      " -0.95877201  0.28642359 -0.4731256   0.10634963  0.58065252  0.87763292\n",
      " -1.92866405  0.51147071 -1.02751301  0.89266252  0.55166081 -0.17567541\n",
      "  0.12392399  0.12425184  0.62049118  0.70336861  0.34409594  0.82760848\n",
      " -0.82390016  0.63332896 -1.66262789  0.98397078  0.44573683  0.44747413\n",
      " -0.19308505 -0.78001186 -0.16053121  0.73190185  0.96534497  0.16954557\n",
      " -0.8202749   0.99182635 -0.11322224  0.33650863  0.63049521  0.81088276\n",
      " -0.97137595  0.95756016  0.39960994 -1.30936059 -0.94848976  0.90394121\n",
      " -1.73552462  0.86860863  0.31956667 -0.17314456  0.29821114  0.15672722\n",
      "  0.39779902  0.70950543  0.31763889  0.81991271  0.52950143  0.81088276\n",
      "  0.97786076 -0.91279572  0.31927767 -0.47071726  0.78572301  0.96396197\n",
      "  0.65148246  0.80458526 -1.77487023  0.98087769  0.22570505 -2.04163804\n",
      " -1.41760155  0.77238701 -0.13302182  0.98860319 -1.03083973  0.56254006\n",
      " -1.44619042 -0.60092657  0.15425916 -0.22169704  0.88802268  0.46640441\n",
      "  0.35380034  0.29429286  0.99161385  0.31956667  0.9378925  -1.22148847\n",
      "  0.9955037  -1.24242234  0.19247614  0.92183858  0.07292731  0.51171552\n",
      " -1.64360817  0.39080149  0.26825856 -0.04255408 -1.92007765 -0.90360154\n",
      " -1.62087448  0.2782131  -0.65410594 -0.32941844 -1.0109203  -1.18733491\n",
      " -0.47596146  0.80458526  0.26054712  0.70317779  0.26425766  0.75438472\n",
      "  0.6475421   0.99380137 -0.18074529 -0.26072332 -0.6212316  -0.42812264\n",
      " -1.43579159  0.90752618  0.65148246  0.91976838  0.77349983 -1.78596854\n",
      "  0.61493201  0.99896323 -1.49759404  0.96790438  0.91163405  0.48693026\n",
      "  0.76678203  0.96306984  0.8785706  -0.04291179 -1.27400722  0.51310165\n",
      "  0.3628733  -1.56877242 -0.28403663  0.95844555 -1.21453233  0.93780517\n",
      "  0.22570505 -1.2992571  -0.40076487  0.9268799  -1.29218015  0.95304386\n",
      "  0.98754505  0.30377583 -0.1252049  -1.69377618 -0.55399727  0.54199233\n",
      "  0.99224317  0.73533704 -1.63279742 -1.24592086 -0.57693472  0.3021185\n",
      " -1.29872595  0.94677478  0.99903706 -0.6152899   0.61926731  0.87763292\n",
      " -1.54263825  0.0135418 ]\n"
     ]
    }
   ],
   "source": [
    "n1=0\n",
    "d1=0\n",
    "for i in range(n):\n",
    "    n1+=(y_predict-y_mean)**2\n",
    "    d1+=(y[i]-y_mean)**2\n",
    "r2=1-n1/d1\n",
    "print(\"r2 score:\",r2)"
   ]
  },
  {
   "cell_type": "code",
   "execution_count": 19,
   "metadata": {},
   "outputs": [
    {
     "data": {
      "text/plain": [
       "<matplotlib.collections.PathCollection at 0x19d8dbda668>"
      ]
     },
     "execution_count": 19,
     "metadata": {},
     "output_type": "execute_result"
    },
    {
     "data": {
      "image/png": "[encoded data removed]",
      "text/plain": [
       "<Figure size 432x288 with 1 Axes>"
      ]
     },
     "metadata": {
      "needs_background": "light"
     },
     "output_type": "display_data"
    }
   ],
   "source": [
    "plt.scatter(x,y_predict)"
   ]
  },
  {
   "cell_type": "code",
   "execution_count": 20,
   "metadata": {},
   "outputs": [
    {
     "data": {
      "text/plain": [
       "<matplotlib.legend.Legend at 0x19d8dc5ca20>"
      ]
     },
     "execution_count": 20,
     "metadata": {},
     "output_type": "execute_result"
    },
    {
     "data": {
      "image/png": "[encoded data removed]",
      "text/plain": [
       "<Figure size 432x288 with 1 Axes>"
      ]
     },
     "metadata": {
      "needs_background": "light"
     },
     "output_type": "display_data"
    }
   ],
   "source": [
    "plt.scatter(x,y_predict,label=\"linear wave\",color=\"k\")\n",
    "plt.xlabel(\"x\")\n",
    "plt.ylabel(\"y_predicted value\")\n",
    "plt.title(\"linear regression with model including\")\n",
    "plt.legend()"
   ]
  },
  {
   "cell_type": "markdown",
   "metadata": {},
   "source": [
    "### Sklearn"
   ]
  },
  {
   "cell_type": "code",
   "execution_count": 21,
   "metadata": {},
   "outputs": [],
   "source": [
    "from sklearn.linear_model import  LinearRegression"
   ]
  },
  {
   "cell_type": "code",
   "execution_count": 22,
   "metadata": {},
   "outputs": [
    {
     "data": {
      "text/plain": [
       "array([[230.1],\n",
       "       [ 44.5],\n",
       "       [ 17.2],\n",
       "       [151.5],\n",
       "       [180.8],\n",
       "       [  8.7],\n",
       "       [ 57.5],\n",
       "       [120.2],\n",
       "       [  8.6],\n",
       "       [199.8],\n",
       "       [ 66.1],\n",
       "       [214.7],\n",
       "       [ 23.8],\n",
       "       [ 97.5],\n",
       "       [204.1],\n",
       "       [195.4],\n",
       "       [ 67.8],\n",
       "       [281.4],\n",
       "       [ 69.2],\n",
       "       [147.3],\n",
       "       [218.4],\n",
       "       [237.4],\n",
       "       [ 13.2],\n",
       "       [228.3],\n",
       "       [ 62.3],\n",
       "       [262.9],\n",
       "       [142.9],\n",
       "       [240.1],\n",
       "       [248.8],\n",
       "       [ 70.6],\n",
       "       [292.9],\n",
       "       [112.9],\n",
       "       [ 97.2],\n",
       "       [265.6],\n",
       "       [ 95.7],\n",
       "       [290.7],\n",
       "       [266.9],\n",
       "       [ 74.7],\n",
       "       [ 43.1],\n",
       "       [228. ],\n",
       "       [202.5],\n",
       "       [177. ],\n",
       "       [293.6],\n",
       "       [206.9],\n",
       "       [ 25.1],\n",
       "       [175.1],\n",
       "       [ 89.7],\n",
       "       [239.9],\n",
       "       [227.2],\n",
       "       [ 66.9],\n",
       "       [199.8],\n",
       "       [100.4],\n",
       "       [216.4],\n",
       "       [182.6],\n",
       "       [262.7],\n",
       "       [198.9],\n",
       "       [  7.3],\n",
       "       [136.2],\n",
       "       [210.8],\n",
       "       [210.7],\n",
       "       [ 53.5],\n",
       "       [261.3],\n",
       "       [239.3],\n",
       "       [102.7],\n",
       "       [131.1],\n",
       "       [ 69. ],\n",
       "       [ 31.5],\n",
       "       [139.3],\n",
       "       [237.4],\n",
       "       [216.8],\n",
       "       [199.1],\n",
       "       [109.8],\n",
       "       [ 26.8],\n",
       "       [129.4],\n",
       "       [213.4],\n",
       "       [ 16.9],\n",
       "       [ 27.5],\n",
       "       [120.5],\n",
       "       [  5.4],\n",
       "       [116. ],\n",
       "       [ 76.4],\n",
       "       [239.8],\n",
       "       [ 75.3],\n",
       "       [ 68.4],\n",
       "       [213.5],\n",
       "       [193.2],\n",
       "       [ 76.3],\n",
       "       [110.7],\n",
       "       [ 88.3],\n",
       "       [109.8],\n",
       "       [134.3],\n",
       "       [ 28.6],\n",
       "       [217.7],\n",
       "       [250.9],\n",
       "       [107.4],\n",
       "       [163.3],\n",
       "       [197.6],\n",
       "       [184.9],\n",
       "       [289.7],\n",
       "       [135.2],\n",
       "       [222.4],\n",
       "       [296.4],\n",
       "       [280.2],\n",
       "       [187.9],\n",
       "       [238.2],\n",
       "       [137.9],\n",
       "       [ 25. ],\n",
       "       [ 90.4],\n",
       "       [ 13.1],\n",
       "       [255.4],\n",
       "       [225.8],\n",
       "       [241.7],\n",
       "       [175.7],\n",
       "       [209.6],\n",
       "       [ 78.2],\n",
       "       [ 75.1],\n",
       "       [139.2],\n",
       "       [ 76.4],\n",
       "       [125.7],\n",
       "       [ 19.4],\n",
       "       [141.3],\n",
       "       [ 18.8],\n",
       "       [224. ],\n",
       "       [123.1],\n",
       "       [229.5],\n",
       "       [ 87.2],\n",
       "       [  7.8],\n",
       "       [ 80.2],\n",
       "       [220.3],\n",
       "       [ 59.6],\n",
       "       [  0.7],\n",
       "       [265.2],\n",
       "       [  8.4],\n",
       "       [219.8],\n",
       "       [ 36.9],\n",
       "       [ 48.3],\n",
       "       [ 25.6],\n",
       "       [273.7],\n",
       "       [ 43. ],\n",
       "       [184.9],\n",
       "       [ 73.4],\n",
       "       [193.7],\n",
       "       [220.5],\n",
       "       [104.6],\n",
       "       [ 96.2],\n",
       "       [140.3],\n",
       "       [240.1],\n",
       "       [243.2],\n",
       "       [ 38. ],\n",
       "       [ 44.7],\n",
       "       [280.7],\n",
       "       [121. ],\n",
       "       [197.6],\n",
       "       [171.3],\n",
       "       [187.8],\n",
       "       [  4.1],\n",
       "       [ 93.9],\n",
       "       [149.8],\n",
       "       [ 11.7],\n",
       "       [131.7],\n",
       "       [172.5],\n",
       "       [ 85.7],\n",
       "       [188.4],\n",
       "       [163.5],\n",
       "       [117.2],\n",
       "       [234.5],\n",
       "       [ 17.9],\n",
       "       [206.8],\n",
       "       [215.4],\n",
       "       [284.3],\n",
       "       [ 50. ],\n",
       "       [164.5],\n",
       "       [ 19.6],\n",
       "       [168.4],\n",
       "       [222.4],\n",
       "       [276.9],\n",
       "       [248.4],\n",
       "       [170.2],\n",
       "       [276.7],\n",
       "       [165.6],\n",
       "       [156.6],\n",
       "       [218.5],\n",
       "       [ 56.2],\n",
       "       [287.6],\n",
       "       [253.8],\n",
       "       [205. ],\n",
       "       [139.5],\n",
       "       [191.1],\n",
       "       [286. ],\n",
       "       [ 18.7],\n",
       "       [ 39.5],\n",
       "       [ 75.5],\n",
       "       [ 17.2],\n",
       "       [166.8],\n",
       "       [149.7],\n",
       "       [ 38.2],\n",
       "       [ 94.2],\n",
       "       [177. ],\n",
       "       [283.6],\n",
       "       [232.1]])"
      ]
     },
     "execution_count": 22,
     "metadata": {},
     "output_type": "execute_result"
    }
   ],
   "source": [
    "x=data[\"TV\"].values.reshape(-1,1)\n",
    "x"
   ]
  },
  {
   "cell_type": "code",
   "execution_count": 23,
   "metadata": {},
   "outputs": [
    {
     "data": {
      "text/plain": [
       "array([[22.1],\n",
       "       [10.4],\n",
       "       [ 9.3],\n",
       "       [18.5],\n",
       "       [12.9],\n",
       "       [ 7.2],\n",
       "       [11.8],\n",
       "       [13.2],\n",
       "       [ 4.8],\n",
       "       [10.6],\n",
       "       [ 8.6],\n",
       "       [17.4],\n",
       "       [ 9.2],\n",
       "       [ 9.7],\n",
       "       [19. ],\n",
       "       [22.4],\n",
       "       [12.5],\n",
       "       [24.4],\n",
       "       [11.3],\n",
       "       [14.6],\n",
       "       [18. ],\n",
       "       [12.5],\n",
       "       [ 5.6],\n",
       "       [15.5],\n",
       "       [ 9.7],\n",
       "       [12. ],\n",
       "       [15. ],\n",
       "       [15.9],\n",
       "       [18.9],\n",
       "       [10.5],\n",
       "       [21.4],\n",
       "       [11.9],\n",
       "       [ 9.6],\n",
       "       [17.4],\n",
       "       [ 9.5],\n",
       "       [12.8],\n",
       "       [25.4],\n",
       "       [14.7],\n",
       "       [10.1],\n",
       "       [21.5],\n",
       "       [16.6],\n",
       "       [17.1],\n",
       "       [20.7],\n",
       "       [12.9],\n",
       "       [ 8.5],\n",
       "       [14.9],\n",
       "       [10.6],\n",
       "       [23.2],\n",
       "       [14.8],\n",
       "       [ 9.7],\n",
       "       [11.4],\n",
       "       [10.7],\n",
       "       [22.6],\n",
       "       [21.2],\n",
       "       [20.2],\n",
       "       [23.7],\n",
       "       [ 5.5],\n",
       "       [13.2],\n",
       "       [23.8],\n",
       "       [18.4],\n",
       "       [ 8.1],\n",
       "       [24.2],\n",
       "       [15.7],\n",
       "       [14. ],\n",
       "       [18. ],\n",
       "       [ 9.3],\n",
       "       [ 9.5],\n",
       "       [13.4],\n",
       "       [18.9],\n",
       "       [22.3],\n",
       "       [18.3],\n",
       "       [12.4],\n",
       "       [ 8.8],\n",
       "       [11. ],\n",
       "       [17. ],\n",
       "       [ 8.7],\n",
       "       [ 6.9],\n",
       "       [14.2],\n",
       "       [ 5.3],\n",
       "       [11. ],\n",
       "       [11.8],\n",
       "       [12.3],\n",
       "       [11.3],\n",
       "       [13.6],\n",
       "       [21.7],\n",
       "       [15.2],\n",
       "       [12. ],\n",
       "       [16. ],\n",
       "       [12.9],\n",
       "       [16.7],\n",
       "       [11.2],\n",
       "       [ 7.3],\n",
       "       [19.4],\n",
       "       [22.2],\n",
       "       [11.5],\n",
       "       [16.9],\n",
       "       [11.7],\n",
       "       [15.5],\n",
       "       [25.4],\n",
       "       [17.2],\n",
       "       [11.7],\n",
       "       [23.8],\n",
       "       [14.8],\n",
       "       [14.7],\n",
       "       [20.7],\n",
       "       [19.2],\n",
       "       [ 7.2],\n",
       "       [ 8.7],\n",
       "       [ 5.3],\n",
       "       [19.8],\n",
       "       [13.4],\n",
       "       [21.8],\n",
       "       [14.1],\n",
       "       [15.9],\n",
       "       [14.6],\n",
       "       [12.6],\n",
       "       [12.2],\n",
       "       [ 9.4],\n",
       "       [15.9],\n",
       "       [ 6.6],\n",
       "       [15.5],\n",
       "       [ 7. ],\n",
       "       [11.6],\n",
       "       [15.2],\n",
       "       [19.7],\n",
       "       [10.6],\n",
       "       [ 6.6],\n",
       "       [ 8.8],\n",
       "       [24.7],\n",
       "       [ 9.7],\n",
       "       [ 1.6],\n",
       "       [12.7],\n",
       "       [ 5.7],\n",
       "       [19.6],\n",
       "       [10.8],\n",
       "       [11.6],\n",
       "       [ 9.5],\n",
       "       [20.8],\n",
       "       [ 9.6],\n",
       "       [20.7],\n",
       "       [10.9],\n",
       "       [19.2],\n",
       "       [20.1],\n",
       "       [10.4],\n",
       "       [11.4],\n",
       "       [10.3],\n",
       "       [13.2],\n",
       "       [25.4],\n",
       "       [10.9],\n",
       "       [10.1],\n",
       "       [16.1],\n",
       "       [11.6],\n",
       "       [16.6],\n",
       "       [19. ],\n",
       "       [15.6],\n",
       "       [ 3.2],\n",
       "       [15.3],\n",
       "       [10.1],\n",
       "       [ 7.3],\n",
       "       [12.9],\n",
       "       [14.4],\n",
       "       [13.3],\n",
       "       [14.9],\n",
       "       [18. ],\n",
       "       [11.9],\n",
       "       [11.9],\n",
       "       [ 8. ],\n",
       "       [12.2],\n",
       "       [17.1],\n",
       "       [15. ],\n",
       "       [ 8.4],\n",
       "       [14.5],\n",
       "       [ 7.6],\n",
       "       [11.7],\n",
       "       [11.5],\n",
       "       [27. ],\n",
       "       [20.2],\n",
       "       [11.7],\n",
       "       [11.8],\n",
       "       [12.6],\n",
       "       [10.5],\n",
       "       [12.2],\n",
       "       [ 8.7],\n",
       "       [26.2],\n",
       "       [17.6],\n",
       "       [22.6],\n",
       "       [10.3],\n",
       "       [17.3],\n",
       "       [15.9],\n",
       "       [ 6.7],\n",
       "       [10.8],\n",
       "       [ 9.9],\n",
       "       [ 5.9],\n",
       "       [19.6],\n",
       "       [17.3],\n",
       "       [ 7.6],\n",
       "       [ 9.7],\n",
       "       [12.8],\n",
       "       [25.5],\n",
       "       [13.4]])"
      ]
     },
     "execution_count": 23,
     "metadata": {},
     "output_type": "execute_result"
    }
   ],
   "source": [
    "y=data[\"sales\"].values.reshape(-1,1)\n",
    "y"
   ]
  },
  {
   "cell_type": "code",
   "execution_count": 24,
   "metadata": {},
   "outputs": [
    {
     "data": {
      "text/plain": [
       "LinearRegression(copy_X=True, fit_intercept=True, n_jobs=None, normalize=False)"
      ]
     },
     "execution_count": 24,
     "metadata": {},
     "output_type": "execute_result"
    }
   ],
   "source": [
    "reg=LinearRegression()\n",
    "reg.fit(x,y)\n"
   ]
  },
  {
   "cell_type": "code",
   "execution_count": 25,
   "metadata": {},
   "outputs": [
    {
     "data": {
      "text/plain": [
       "array([[0.04753664]])"
      ]
     },
     "execution_count": 25,
     "metadata": {},
     "output_type": "execute_result"
    }
   ],
   "source": [
    "reg.coef_"
   ]
  },
  {
   "cell_type": "code",
   "execution_count": 26,
   "metadata": {},
   "outputs": [
    {
     "data": {
      "text/plain": [
       "array([7.03259355])"
      ]
     },
     "execution_count": 26,
     "metadata": {},
     "output_type": "execute_result"
    }
   ],
   "source": [
    "reg.intercept_"
   ]
  },
  {
   "cell_type": "code",
   "execution_count": 27,
   "metadata": {},
   "outputs": [
    {
     "name": "stdout",
     "output_type": "stream",
     "text": [
      "[[17.97077451]\n",
      " [ 9.14797405]\n",
      " [ 7.85022376]\n",
      " [14.23439457]\n",
      " [15.62721814]\n",
      " [ 7.44616232]\n",
      " [ 9.76595037]\n",
      " [12.74649773]\n",
      " [ 7.44140866]\n",
      " [16.53041431]\n",
      " [10.17476548]\n",
      " [17.23871025]\n",
      " [ 8.16396559]\n",
      " [11.66741599]\n",
      " [16.73482186]\n",
      " [16.32125309]\n",
      " [10.25557777]\n",
      " [20.40940417]\n",
      " [10.32212907]\n",
      " [14.03474068]\n",
      " [17.41459582]\n",
      " [18.31779199]\n",
      " [ 7.6600772 ]\n",
      " [17.88520856]\n",
      " [ 9.99412625]\n",
      " [19.52997632]\n",
      " [13.82557947]\n",
      " [18.44614092]\n",
      " [18.85970969]\n",
      " [10.38868036]\n",
      " [20.95607553]\n",
      " [12.39948025]\n",
      " [11.653155  ]\n",
      " [19.65832525]\n",
      " [11.58185004]\n",
      " [20.85149492]\n",
      " [19.72012288]\n",
      " [10.58358059]\n",
      " [ 9.08142275]\n",
      " [17.87094757]\n",
      " [16.65876324]\n",
      " [15.44657891]\n",
      " [20.98935118]\n",
      " [16.86792445]\n",
      " [ 8.22576322]\n",
      " [15.35625929]\n",
      " [11.2966302 ]\n",
      " [18.43663359]\n",
      " [17.83291826]\n",
      " [10.21279479]\n",
      " [16.53041431]\n",
      " [11.80527225]\n",
      " [17.31952254]\n",
      " [15.71278409]\n",
      " [19.52046899]\n",
      " [16.48763133]\n",
      " [ 7.37961102]\n",
      " [13.50708398]\n",
      " [17.05331735]\n",
      " [17.04856369]\n",
      " [ 9.57580381]\n",
      " [19.45391769]\n",
      " [18.4081116 ]\n",
      " [11.91460652]\n",
      " [13.26464711]\n",
      " [10.31262174]\n",
      " [ 8.52999772]\n",
      " [13.65444756]\n",
      " [18.31779199]\n",
      " [17.3385372 ]\n",
      " [16.49713866]\n",
      " [12.25211667]\n",
      " [ 8.30657551]\n",
      " [13.18383482]\n",
      " [17.17691262]\n",
      " [ 7.83596277]\n",
      " [ 8.33985116]\n",
      " [12.76075872]\n",
      " [ 7.28929141]\n",
      " [12.54684384]\n",
      " [10.66439288]\n",
      " [18.43187992]\n",
      " [10.61210257]\n",
      " [10.28409975]\n",
      " [17.18166628]\n",
      " [16.21667248]\n",
      " [10.65963921]\n",
      " [12.29489965]\n",
      " [11.2300789 ]\n",
      " [12.25211667]\n",
      " [13.41676436]\n",
      " [ 8.39214147]\n",
      " [17.38132017]\n",
      " [18.95953663]\n",
      " [12.13802873]\n",
      " [14.79532693]\n",
      " [16.4258337 ]\n",
      " [15.82211837]\n",
      " [20.80395828]\n",
      " [13.45954734]\n",
      " [17.60474238]\n",
      " [21.12245377]\n",
      " [20.3523602 ]\n",
      " [15.96472829]\n",
      " [18.3558213 ]\n",
      " [13.58789626]\n",
      " [ 8.22100956]\n",
      " [11.32990584]\n",
      " [ 7.65532354]\n",
      " [19.17345152]\n",
      " [17.76636696]\n",
      " [18.52219954]\n",
      " [15.38478127]\n",
      " [16.99627338]\n",
      " [10.74995883]\n",
      " [10.60259525]\n",
      " [13.6496939 ]\n",
      " [10.66439288]\n",
      " [13.00794925]\n",
      " [ 7.95480437]\n",
      " [13.74952084]\n",
      " [ 7.92628239]\n",
      " [17.68080101]\n",
      " [12.88435399]\n",
      " [17.94225253]\n",
      " [11.17778859]\n",
      " [ 7.40337934]\n",
      " [10.84503211]\n",
      " [17.50491544]\n",
      " [ 9.86577732]\n",
      " [ 7.0658692 ]\n",
      " [19.63931059]\n",
      " [ 7.43190133]\n",
      " [17.48114712]\n",
      " [ 8.78669558]\n",
      " [ 9.32861328]\n",
      " [ 8.24953154]\n",
      " [20.04337204]\n",
      " [ 9.07666909]\n",
      " [15.82211837]\n",
      " [10.52178296]\n",
      " [16.2404408 ]\n",
      " [17.51442276]\n",
      " [12.00492614]\n",
      " [11.60561836]\n",
      " [13.7019842 ]\n",
      " [18.44614092]\n",
      " [18.5935045 ]\n",
      " [ 8.83898589]\n",
      " [ 9.15748138]\n",
      " [20.37612852]\n",
      " [12.78452704]\n",
      " [16.4258337 ]\n",
      " [15.17562006]\n",
      " [15.95997462]\n",
      " [ 7.22749377]\n",
      " [11.49628409]\n",
      " [14.15358229]\n",
      " [ 7.58877224]\n",
      " [13.29316909]\n",
      " [15.23266402]\n",
      " [11.10648363]\n",
      " [15.98849661]\n",
      " [14.80483426]\n",
      " [12.60388781]\n",
      " [18.17993573]\n",
      " [ 7.88349941]\n",
      " [16.86317079]\n",
      " [17.2719859 ]\n",
      " [20.54726042]\n",
      " [ 9.40942557]\n",
      " [14.8523709 ]\n",
      " [ 7.9643117 ]\n",
      " [15.0377638 ]\n",
      " [17.60474238]\n",
      " [20.19548929]\n",
      " [18.84069503]\n",
      " [15.12332975]\n",
      " [20.18598196]\n",
      " [14.9046612 ]\n",
      " [14.47683144]\n",
      " [17.41934948]\n",
      " [ 9.70415274]\n",
      " [20.70413134]\n",
      " [19.09739289]\n",
      " [16.77760484]\n",
      " [13.66395489]\n",
      " [16.11684554]\n",
      " [20.62807271]\n",
      " [ 7.92152873]\n",
      " [ 8.91029085]\n",
      " [10.6216099 ]\n",
      " [ 7.85022376]\n",
      " [14.96170517]\n",
      " [14.14882862]\n",
      " [ 8.84849321]\n",
      " [11.51054508]\n",
      " [15.44657891]\n",
      " [20.51398478]\n",
      " [18.06584779]]\n"
     ]
    }
   ],
   "source": [
    "y_predict=reg.predict(x)\n",
    "print(y_predict)"
   ]
  },
  {
   "cell_type": "code",
   "execution_count": 28,
   "metadata": {},
   "outputs": [
    {
     "name": "stdout",
     "output_type": "stream",
     "text": [
      "0.611875050850071\n"
     ]
    }
   ],
   "source": [
    "score=reg.score(x,y)\n",
    "print(score)"
   ]
  },
  {
   "cell_type": "code",
   "execution_count": 29,
   "metadata": {},
   "outputs": [
    {
     "data": {
      "text/plain": [
       "array([[8.86750787]])"
      ]
     },
     "execution_count": 29,
     "metadata": {},
     "output_type": "execute_result"
    }
   ],
   "source": [
    "reg.predict([[38.6]])"
   ]
  },
  {
   "cell_type": "code",
   "execution_count": 53,
   "metadata": {},
   "outputs": [
    {
     "data": {
      "image/png": "[encoded data removed]",
      "text/plain": [
       "<Figure size 432x288 with 1 Axes>"
      ]
     },
     "metadata": {
      "needs_background": "light"
     },
     "output_type": "display_data"
    }
   ],
   "source": [
    "import matplotlib.pyplot as plt\n",
    "plt.scatter(x,y,c='m',label=\"before prediction\")\n",
    "plt.plot(x,y_predict,c='r',label=\"LinearRegression\")\n",
    "plt.xlabel(\"x\")\n",
    "plt.ylabel(\"y\")\n",
    "plt.title(\"LinearRegression Model\")\n",
    "plt.legend(loc='best')\n",
    "plt.show()"
   ]
  },
  {
   "cell_type": "markdown",
   "metadata": {},
   "source": [
    "### Polynomial---Multiple degree =ax2+bx+c"
   ]
  },
  {
   "cell_type": "code",
   "execution_count": 31,
   "metadata": {},
   "outputs": [],
   "source": [
    "from sklearn.preprocessing import PolynomialFeatures"
   ]
  },
  {
   "cell_type": "code",
   "execution_count": 32,
   "metadata": {},
   "outputs": [
    {
     "name": "stdout",
     "output_type": "stream",
     "text": [
      "[[0.14108596]\n",
      " [0.48303916]\n",
      " [0.95156227]\n",
      " [0.90293062]\n",
      " [0.1541568 ]\n",
      " [0.34907181]\n",
      " [0.27232752]\n",
      " [0.32556407]\n",
      " [0.53657471]\n",
      " [0.72483639]\n",
      " [0.73543905]\n",
      " [0.55567218]\n",
      " [0.99524108]\n",
      " [0.76650409]\n",
      " [0.89358265]\n",
      " [0.38378599]\n",
      " [0.0671445 ]\n",
      " [0.96148306]\n",
      " [0.2276372 ]\n",
      " [0.8552007 ]\n",
      " [0.25538376]\n",
      " [0.77992292]\n",
      " [0.90642299]\n",
      " [0.43987712]\n",
      " [0.31526808]\n",
      " [0.63279196]\n",
      " [0.07831897]\n",
      " [0.41092951]\n",
      " [0.33532881]\n",
      " [0.21879818]\n",
      " [0.15170397]\n",
      " [0.43175543]\n",
      " [0.69537042]\n",
      " [0.31039067]\n",
      " [0.81662905]\n",
      " [0.31954108]\n",
      " [0.34679926]\n",
      " [0.43197206]\n",
      " [0.20424117]\n",
      " [0.36155437]\n",
      " [0.52376967]\n",
      " [0.714187  ]\n",
      " [0.29437018]\n",
      " [0.99804147]\n",
      " [0.21652744]\n",
      " [0.54870722]\n",
      " [0.61806926]\n",
      " [0.53974178]\n",
      " [0.63086286]\n",
      " [0.33040582]\n",
      " [0.94788629]\n",
      " [0.94723447]\n",
      " [0.998527  ]\n",
      " [0.97732351]\n",
      " [0.16728862]\n",
      " [0.20091328]\n",
      " [0.04836894]\n",
      " [0.35239038]\n",
      " [0.17311967]\n",
      " [0.47389122]\n",
      " [0.50362925]\n",
      " [0.28176167]\n",
      " [0.81522268]\n",
      " [0.30184274]\n",
      " [0.44389853]\n",
      " [0.81341949]\n",
      " [0.89003014]\n",
      " [0.98335146]\n",
      " [0.91169233]\n",
      " [0.27045112]\n",
      " [0.87541181]\n",
      " [0.29726078]\n",
      " [0.68367633]\n",
      " [0.56733901]\n",
      " [0.57669028]\n",
      " [0.17498792]\n",
      " [0.81777414]\n",
      " [0.01107584]\n",
      " [0.73219991]\n",
      " [0.85914149]\n",
      " [0.89699407]\n",
      " [0.21890959]\n",
      " [0.0153747 ]\n",
      " [0.5499829 ]\n",
      " [0.17946417]\n",
      " [0.38895447]\n",
      " [0.84727018]\n",
      " [0.4881477 ]\n",
      " [0.72793716]\n",
      " [0.96790931]\n",
      " [0.55172784]\n",
      " [0.06779759]\n",
      " [0.59226937]\n",
      " [0.19078245]\n",
      " [0.86612594]\n",
      " [0.21161466]\n",
      " [0.43652709]\n",
      " [0.72795841]\n",
      " [0.03288978]\n",
      " [0.63362296]]\n",
      "[[0.82641636]\n",
      " [1.11411655]\n",
      " [1.87840019]\n",
      " [1.61564402]\n",
      " [0.78468349]\n",
      " [1.27930816]\n",
      " [1.08762401]\n",
      " [1.16295907]\n",
      " [1.17507086]\n",
      " [1.05348329]\n",
      " [1.53082351]\n",
      " [1.40498691]\n",
      " [2.21629934]\n",
      " [1.95039156]\n",
      " [2.09239499]\n",
      " [0.78307924]\n",
      " [1.00569252]\n",
      " [1.56765202]\n",
      " [0.27809742]\n",
      " [1.48919378]\n",
      " [0.90702911]\n",
      " [1.72739661]\n",
      " [1.66352209]\n",
      " [0.5542293 ]\n",
      " [1.10703619]\n",
      " [0.88585679]\n",
      " [0.88348896]\n",
      " [1.31330956]\n",
      " [0.63688033]\n",
      " [1.15395307]\n",
      " [1.04934419]\n",
      " [1.36713103]\n",
      " [1.05453526]\n",
      " [0.98227077]\n",
      " [1.78327943]\n",
      " [0.67126422]\n",
      " [0.70906122]\n",
      " [0.92174319]\n",
      " [0.50369322]\n",
      " [0.68316718]\n",
      " [1.39899427]\n",
      " [1.59075674]\n",
      " [0.46160372]\n",
      " [2.18114847]\n",
      " [0.2019982 ]\n",
      " [0.64368617]\n",
      " [1.08095119]\n",
      " [0.76963095]\n",
      " [0.9968924 ]\n",
      " [0.27566775]\n",
      " [2.2609983 ]\n",
      " [1.92579668]\n",
      " [2.49565813]\n",
      " [1.67601799]\n",
      " [0.63015386]\n",
      " [0.50193329]\n",
      " [0.97033339]\n",
      " [0.94787868]\n",
      " [0.85008239]\n",
      " [0.63548413]\n",
      " [0.60078985]\n",
      " [0.48826198]\n",
      " [1.99817976]\n",
      " [0.69153162]\n",
      " [0.56139834]\n",
      " [1.44531964]\n",
      " [1.63110812]\n",
      " [2.01628994]\n",
      " [1.47382482]\n",
      " [0.62433254]\n",
      " [2.01749865]\n",
      " [0.98738978]\n",
      " [0.84156201]\n",
      " [0.67284044]\n",
      " [0.72425699]\n",
      " [0.74033976]\n",
      " [1.35924376]\n",
      " [0.73456394]\n",
      " [1.44352215]\n",
      " [1.33813324]\n",
      " [1.77036913]\n",
      " [0.78735749]\n",
      " [0.47543309]\n",
      " [1.43798209]\n",
      " [0.71572909]\n",
      " [0.52653629]\n",
      " [1.82526057]\n",
      " [1.07934787]\n",
      " [0.9838916 ]\n",
      " [1.61760481]\n",
      " [0.63618407]\n",
      " [0.52768343]\n",
      " [0.88958851]\n",
      " [0.70806221]\n",
      " [1.29220328]\n",
      " [0.49938648]\n",
      " [1.38690927]\n",
      " [1.20632211]\n",
      " [0.94832613]\n",
      " [0.73711582]]\n",
      "(100, 1)\n"
     ]
    }
   ],
   "source": [
    "x1=np.random.rand(100,1)\n",
    "print(x1)\n",
    "y1=0.5*x1+x1**2+np.random.rand(100,1)\n",
    "print(y1)                      #y=ax2+bx+c=>a=0.5\n",
    "print(x1.shape)\n",
    "                                   "
   ]
  },
  {
   "cell_type": "code",
   "execution_count": 33,
   "metadata": {},
   "outputs": [
    {
     "name": "stdout",
     "output_type": "stream",
     "text": [
      "[[4.57393005]\n",
      " [5.4345095 ]\n",
      " [1.01058382]\n",
      " [1.93522681]\n",
      " [0.99323159]\n",
      " [2.85047882]\n",
      " [4.88033201]\n",
      " [0.01440217]\n",
      " [4.56188933]\n",
      " [5.62975496]\n",
      " [2.42452585]\n",
      " [0.81893348]\n",
      " [5.58910614]\n",
      " [0.58877755]\n",
      " [1.56137314]\n",
      " [3.49063595]\n",
      " [2.08570144]\n",
      " [2.76558768]\n",
      " [1.93907515]\n",
      " [1.94577914]\n",
      " [5.31678141]\n",
      " [5.17229429]\n",
      " [0.59024893]\n",
      " [3.79723459]\n",
      " [4.88218331]\n",
      " [2.57395349]\n",
      " [2.12551615]\n",
      " [0.54332712]\n",
      " [5.7855498 ]\n",
      " [2.18658699]\n",
      " [0.81292348]\n",
      " [2.25365226]\n",
      " [2.44994666]\n",
      " [1.88885597]\n",
      " [1.73875024]\n",
      " [0.38309256]\n",
      " [3.47721804]\n",
      " [4.46587871]\n",
      " [1.18555972]\n",
      " [5.16458022]\n",
      " [5.91449167]\n",
      " [3.96341164]\n",
      " [3.3470671 ]\n",
      " [3.1602076 ]\n",
      " [5.59013775]\n",
      " [5.60509819]\n",
      " [2.63038105]\n",
      " [1.30723678]\n",
      " [4.81427589]\n",
      " [0.80916297]\n",
      " [3.67071581]\n",
      " [1.01704828]\n",
      " [1.66244714]\n",
      " [1.73317564]\n",
      " [4.97721385]\n",
      " [2.18798416]\n",
      " [4.22991134]\n",
      " [0.23350373]\n",
      " [0.46076455]\n",
      " [1.02531267]\n",
      " [3.41540472]\n",
      " [1.82534736]\n",
      " [2.91684136]\n",
      " [3.93804529]\n",
      " [2.42378447]\n",
      " [5.44105032]\n",
      " [4.33511092]\n",
      " [4.9221277 ]\n",
      " [1.78747765]\n",
      " [5.96331478]\n",
      " [1.41185422]\n",
      " [0.84563289]\n",
      " [5.54209309]\n",
      " [5.52966534]\n",
      " [0.76760494]\n",
      " [1.07931382]\n",
      " [5.36668799]\n",
      " [3.94134463]\n",
      " [5.74001846]\n",
      " [3.24605767]\n",
      " [5.71449865]\n",
      " [0.3898154 ]\n",
      " [2.25855673]\n",
      " [2.95581273]\n",
      " [1.76509856]\n",
      " [2.6069058 ]\n",
      " [3.80588134]\n",
      " [5.16073329]\n",
      " [3.68641483]\n",
      " [5.51818381]\n",
      " [0.00957838]\n",
      " [2.04224889]\n",
      " [2.88251715]\n",
      " [0.3794238 ]\n",
      " [0.69474389]\n",
      " [3.52899014]\n",
      " [4.52611999]\n",
      " [0.84974523]\n",
      " [2.54381089]\n",
      " [4.95528824]]\n",
      "[[23.82737584]\n",
      " [33.11089287]\n",
      " [ 2.48107589]\n",
      " [ 4.83652699]\n",
      " [ 2.24243435]\n",
      " [10.29041888]\n",
      " [26.74032026]\n",
      " [ 0.11633627]\n",
      " [23.61478733]\n",
      " [34.90142684]\n",
      " [ 7.53787513]\n",
      " [ 1.35479544]\n",
      " [34.06231167]\n",
      " [ 1.50905262]\n",
      " [ 3.97881811]\n",
      " [14.25093526]\n",
      " [ 5.85291618]\n",
      " [ 9.70673512]\n",
      " [ 5.67149832]\n",
      " [ 5.11012799]\n",
      " [31.6237214 ]\n",
      " [30.30515903]\n",
      " [ 1.08535551]\n",
      " [16.45104619]\n",
      " [27.10935697]\n",
      " [ 8.26763441]\n",
      " [ 5.69915844]\n",
      " [ 1.24344663]\n",
      " [36.62112643]\n",
      " [ 6.45150358]\n",
      " [ 1.55119759]\n",
      " [ 6.78874811]\n",
      " [ 7.45456119]\n",
      " [ 5.40787478]\n",
      " [ 4.62857974]\n",
      " [ 0.77095531]\n",
      " [14.77951314]\n",
      " [22.69893219]\n",
      " [ 2.0262295 ]\n",
      " [29.58125735]\n",
      " [38.84742719]\n",
      " [17.74251076]\n",
      " [13.11883873]\n",
      " [11.62378694]\n",
      " [34.97618194]\n",
      " [34.96521883]\n",
      " [ 8.92015508]\n",
      " [ 2.85987946]\n",
      " [25.99708932]\n",
      " [ 1.51443384]\n",
      " [16.28502319]\n",
      " [ 1.95747868]\n",
      " [ 3.97268752]\n",
      " [ 4.4680891 ]\n",
      " [27.28821856]\n",
      " [ 6.20019391]\n",
      " [20.26308836]\n",
      " [ 0.9192976 ]\n",
      " [ 1.26813093]\n",
      " [ 2.34192987]\n",
      " [14.36233634]\n",
      " [ 5.08089019]\n",
      " [10.69293861]\n",
      " [18.17938008]\n",
      " [ 7.42817265]\n",
      " [33.03463972]\n",
      " [21.7043899 ]\n",
      " [27.10568243]\n",
      " [ 4.82030863]\n",
      " [38.93838912]\n",
      " [ 2.98895121]\n",
      " [ 2.04893466]\n",
      " [33.80466649]\n",
      " [33.92956285]\n",
      " [ 1.69845728]\n",
      " [ 2.10899212]\n",
      " [31.58949821]\n",
      " [17.88816366]\n",
      " [36.05122472]\n",
      " [12.83559926]\n",
      " [35.52756184]\n",
      " [ 0.89857605]\n",
      " [ 7.04734895]\n",
      " [10.93147444]\n",
      " [ 4.08395133]\n",
      " [ 8.70724866]\n",
      " [16.45692165]\n",
      " [29.66984239]\n",
      " [16.42620401]\n",
      " [33.98191612]\n",
      " [ 0.21807795]\n",
      " [ 5.21426889]\n",
      " [10.00865656]\n",
      " [ 1.23425397]\n",
      " [ 0.96416886]\n",
      " [14.34163932]\n",
      " [22.79157175]\n",
      " [ 1.57369405]\n",
      " [ 7.81694751]\n",
      " [27.16033751]]\n",
      "(100, 1)\n"
     ]
    }
   ],
   "source": [
    "x1=6*np.random.rand(100,1)\n",
    "print(x1)\n",
    "y1=0.5*x1+x1**2+np.random.rand(100,1)\n",
    "print(y1)#y=ax2+bx+c=>a=0.5\n",
    "print(x1.shape)                        #\n",
    "         "
   ]
  },
  {
   "cell_type": "code",
   "execution_count": 34,
   "metadata": {},
   "outputs": [
    {
     "name": "stdout",
     "output_type": "stream",
     "text": [
      "(100, 1)\n"
     ]
    }
   ],
   "source": [
    "print(y1.shape)"
   ]
  },
  {
   "cell_type": "code",
   "execution_count": 35,
   "metadata": {},
   "outputs": [
    {
     "data": {
      "text/plain": [
       "[<matplotlib.lines.Line2D at 0x19d90226978>]"
      ]
     },
     "execution_count": 35,
     "metadata": {},
     "output_type": "execute_result"
    },
    {
     "data": {
      "image/png": "[encoded data removed]",
      "text/plain": [
       "<Figure size 432x288 with 1 Axes>"
      ]
     },
     "metadata": {
      "needs_background": "light"
     },
     "output_type": "display_data"
    }
   ],
   "source": [
    "plt.plot(x1,y1,'.')"
   ]
  },
  {
   "cell_type": "code",
   "execution_count": 36,
   "metadata": {},
   "outputs": [],
   "source": [
    "poly=PolynomialFeatures()"
   ]
  },
  {
   "cell_type": "code",
   "execution_count": 37,
   "metadata": {},
   "outputs": [
    {
     "data": {
      "text/plain": [
       "array([[1.000000e+00, 2.301000e+02, 5.294601e+04],\n",
       "       [1.000000e+00, 4.450000e+01, 1.980250e+03],\n",
       "       [1.000000e+00, 1.720000e+01, 2.958400e+02],\n",
       "       [1.000000e+00, 1.515000e+02, 2.295225e+04],\n",
       "       [1.000000e+00, 1.808000e+02, 3.268864e+04],\n",
       "       [1.000000e+00, 8.700000e+00, 7.569000e+01],\n",
       "       [1.000000e+00, 5.750000e+01, 3.306250e+03],\n",
       "       [1.000000e+00, 1.202000e+02, 1.444804e+04],\n",
       "       [1.000000e+00, 8.600000e+00, 7.396000e+01],\n",
       "       [1.000000e+00, 1.998000e+02, 3.992004e+04],\n",
       "       [1.000000e+00, 6.610000e+01, 4.369210e+03],\n",
       "       [1.000000e+00, 2.147000e+02, 4.609609e+04],\n",
       "       [1.000000e+00, 2.380000e+01, 5.664400e+02],\n",
       "       [1.000000e+00, 9.750000e+01, 9.506250e+03],\n",
       "       [1.000000e+00, 2.041000e+02, 4.165681e+04],\n",
       "       [1.000000e+00, 1.954000e+02, 3.818116e+04],\n",
       "       [1.000000e+00, 6.780000e+01, 4.596840e+03],\n",
       "       [1.000000e+00, 2.814000e+02, 7.918596e+04],\n",
       "       [1.000000e+00, 6.920000e+01, 4.788640e+03],\n",
       "       [1.000000e+00, 1.473000e+02, 2.169729e+04],\n",
       "       [1.000000e+00, 2.184000e+02, 4.769856e+04],\n",
       "       [1.000000e+00, 2.374000e+02, 5.635876e+04],\n",
       "       [1.000000e+00, 1.320000e+01, 1.742400e+02],\n",
       "       [1.000000e+00, 2.283000e+02, 5.212089e+04],\n",
       "       [1.000000e+00, 6.230000e+01, 3.881290e+03],\n",
       "       [1.000000e+00, 2.629000e+02, 6.911641e+04],\n",
       "       [1.000000e+00, 1.429000e+02, 2.042041e+04],\n",
       "       [1.000000e+00, 2.401000e+02, 5.764801e+04],\n",
       "       [1.000000e+00, 2.488000e+02, 6.190144e+04],\n",
       "       [1.000000e+00, 7.060000e+01, 4.984360e+03],\n",
       "       [1.000000e+00, 2.929000e+02, 8.579041e+04],\n",
       "       [1.000000e+00, 1.129000e+02, 1.274641e+04],\n",
       "       [1.000000e+00, 9.720000e+01, 9.447840e+03],\n",
       "       [1.000000e+00, 2.656000e+02, 7.054336e+04],\n",
       "       [1.000000e+00, 9.570000e+01, 9.158490e+03],\n",
       "       [1.000000e+00, 2.907000e+02, 8.450649e+04],\n",
       "       [1.000000e+00, 2.669000e+02, 7.123561e+04],\n",
       "       [1.000000e+00, 7.470000e+01, 5.580090e+03],\n",
       "       [1.000000e+00, 4.310000e+01, 1.857610e+03],\n",
       "       [1.000000e+00, 2.280000e+02, 5.198400e+04],\n",
       "       [1.000000e+00, 2.025000e+02, 4.100625e+04],\n",
       "       [1.000000e+00, 1.770000e+02, 3.132900e+04],\n",
       "       [1.000000e+00, 2.936000e+02, 8.620096e+04],\n",
       "       [1.000000e+00, 2.069000e+02, 4.280761e+04],\n",
       "       [1.000000e+00, 2.510000e+01, 6.300100e+02],\n",
       "       [1.000000e+00, 1.751000e+02, 3.066001e+04],\n",
       "       [1.000000e+00, 8.970000e+01, 8.046090e+03],\n",
       "       [1.000000e+00, 2.399000e+02, 5.755201e+04],\n",
       "       [1.000000e+00, 2.272000e+02, 5.161984e+04],\n",
       "       [1.000000e+00, 6.690000e+01, 4.475610e+03],\n",
       "       [1.000000e+00, 1.998000e+02, 3.992004e+04],\n",
       "       [1.000000e+00, 1.004000e+02, 1.008016e+04],\n",
       "       [1.000000e+00, 2.164000e+02, 4.682896e+04],\n",
       "       [1.000000e+00, 1.826000e+02, 3.334276e+04],\n",
       "       [1.000000e+00, 2.627000e+02, 6.901129e+04],\n",
       "       [1.000000e+00, 1.989000e+02, 3.956121e+04],\n",
       "       [1.000000e+00, 7.300000e+00, 5.329000e+01],\n",
       "       [1.000000e+00, 1.362000e+02, 1.855044e+04],\n",
       "       [1.000000e+00, 2.108000e+02, 4.443664e+04],\n",
       "       [1.000000e+00, 2.107000e+02, 4.439449e+04],\n",
       "       [1.000000e+00, 5.350000e+01, 2.862250e+03],\n",
       "       [1.000000e+00, 2.613000e+02, 6.827769e+04],\n",
       "       [1.000000e+00, 2.393000e+02, 5.726449e+04],\n",
       "       [1.000000e+00, 1.027000e+02, 1.054729e+04],\n",
       "       [1.000000e+00, 1.311000e+02, 1.718721e+04],\n",
       "       [1.000000e+00, 6.900000e+01, 4.761000e+03],\n",
       "       [1.000000e+00, 3.150000e+01, 9.922500e+02],\n",
       "       [1.000000e+00, 1.393000e+02, 1.940449e+04],\n",
       "       [1.000000e+00, 2.374000e+02, 5.635876e+04],\n",
       "       [1.000000e+00, 2.168000e+02, 4.700224e+04],\n",
       "       [1.000000e+00, 1.991000e+02, 3.964081e+04],\n",
       "       [1.000000e+00, 1.098000e+02, 1.205604e+04],\n",
       "       [1.000000e+00, 2.680000e+01, 7.182400e+02],\n",
       "       [1.000000e+00, 1.294000e+02, 1.674436e+04],\n",
       "       [1.000000e+00, 2.134000e+02, 4.553956e+04],\n",
       "       [1.000000e+00, 1.690000e+01, 2.856100e+02],\n",
       "       [1.000000e+00, 2.750000e+01, 7.562500e+02],\n",
       "       [1.000000e+00, 1.205000e+02, 1.452025e+04],\n",
       "       [1.000000e+00, 5.400000e+00, 2.916000e+01],\n",
       "       [1.000000e+00, 1.160000e+02, 1.345600e+04],\n",
       "       [1.000000e+00, 7.640000e+01, 5.836960e+03],\n",
       "       [1.000000e+00, 2.398000e+02, 5.750404e+04],\n",
       "       [1.000000e+00, 7.530000e+01, 5.670090e+03],\n",
       "       [1.000000e+00, 6.840000e+01, 4.678560e+03],\n",
       "       [1.000000e+00, 2.135000e+02, 4.558225e+04],\n",
       "       [1.000000e+00, 1.932000e+02, 3.732624e+04],\n",
       "       [1.000000e+00, 7.630000e+01, 5.821690e+03],\n",
       "       [1.000000e+00, 1.107000e+02, 1.225449e+04],\n",
       "       [1.000000e+00, 8.830000e+01, 7.796890e+03],\n",
       "       [1.000000e+00, 1.098000e+02, 1.205604e+04],\n",
       "       [1.000000e+00, 1.343000e+02, 1.803649e+04],\n",
       "       [1.000000e+00, 2.860000e+01, 8.179600e+02],\n",
       "       [1.000000e+00, 2.177000e+02, 4.739329e+04],\n",
       "       [1.000000e+00, 2.509000e+02, 6.295081e+04],\n",
       "       [1.000000e+00, 1.074000e+02, 1.153476e+04],\n",
       "       [1.000000e+00, 1.633000e+02, 2.666689e+04],\n",
       "       [1.000000e+00, 1.976000e+02, 3.904576e+04],\n",
       "       [1.000000e+00, 1.849000e+02, 3.418801e+04],\n",
       "       [1.000000e+00, 2.897000e+02, 8.392609e+04],\n",
       "       [1.000000e+00, 1.352000e+02, 1.827904e+04],\n",
       "       [1.000000e+00, 2.224000e+02, 4.946176e+04],\n",
       "       [1.000000e+00, 2.964000e+02, 8.785296e+04],\n",
       "       [1.000000e+00, 2.802000e+02, 7.851204e+04],\n",
       "       [1.000000e+00, 1.879000e+02, 3.530641e+04],\n",
       "       [1.000000e+00, 2.382000e+02, 5.673924e+04],\n",
       "       [1.000000e+00, 1.379000e+02, 1.901641e+04],\n",
       "       [1.000000e+00, 2.500000e+01, 6.250000e+02],\n",
       "       [1.000000e+00, 9.040000e+01, 8.172160e+03],\n",
       "       [1.000000e+00, 1.310000e+01, 1.716100e+02],\n",
       "       [1.000000e+00, 2.554000e+02, 6.522916e+04],\n",
       "       [1.000000e+00, 2.258000e+02, 5.098564e+04],\n",
       "       [1.000000e+00, 2.417000e+02, 5.841889e+04],\n",
       "       [1.000000e+00, 1.757000e+02, 3.087049e+04],\n",
       "       [1.000000e+00, 2.096000e+02, 4.393216e+04],\n",
       "       [1.000000e+00, 7.820000e+01, 6.115240e+03],\n",
       "       [1.000000e+00, 7.510000e+01, 5.640010e+03],\n",
       "       [1.000000e+00, 1.392000e+02, 1.937664e+04],\n",
       "       [1.000000e+00, 7.640000e+01, 5.836960e+03],\n",
       "       [1.000000e+00, 1.257000e+02, 1.580049e+04],\n",
       "       [1.000000e+00, 1.940000e+01, 3.763600e+02],\n",
       "       [1.000000e+00, 1.413000e+02, 1.996569e+04],\n",
       "       [1.000000e+00, 1.880000e+01, 3.534400e+02],\n",
       "       [1.000000e+00, 2.240000e+02, 5.017600e+04],\n",
       "       [1.000000e+00, 1.231000e+02, 1.515361e+04],\n",
       "       [1.000000e+00, 2.295000e+02, 5.267025e+04],\n",
       "       [1.000000e+00, 8.720000e+01, 7.603840e+03],\n",
       "       [1.000000e+00, 7.800000e+00, 6.084000e+01],\n",
       "       [1.000000e+00, 8.020000e+01, 6.432040e+03],\n",
       "       [1.000000e+00, 2.203000e+02, 4.853209e+04],\n",
       "       [1.000000e+00, 5.960000e+01, 3.552160e+03],\n",
       "       [1.000000e+00, 7.000000e-01, 4.900000e-01],\n",
       "       [1.000000e+00, 2.652000e+02, 7.033104e+04],\n",
       "       [1.000000e+00, 8.400000e+00, 7.056000e+01],\n",
       "       [1.000000e+00, 2.198000e+02, 4.831204e+04],\n",
       "       [1.000000e+00, 3.690000e+01, 1.361610e+03],\n",
       "       [1.000000e+00, 4.830000e+01, 2.332890e+03],\n",
       "       [1.000000e+00, 2.560000e+01, 6.553600e+02],\n",
       "       [1.000000e+00, 2.737000e+02, 7.491169e+04],\n",
       "       [1.000000e+00, 4.300000e+01, 1.849000e+03],\n",
       "       [1.000000e+00, 1.849000e+02, 3.418801e+04],\n",
       "       [1.000000e+00, 7.340000e+01, 5.387560e+03],\n",
       "       [1.000000e+00, 1.937000e+02, 3.751969e+04],\n",
       "       [1.000000e+00, 2.205000e+02, 4.862025e+04],\n",
       "       [1.000000e+00, 1.046000e+02, 1.094116e+04],\n",
       "       [1.000000e+00, 9.620000e+01, 9.254440e+03],\n",
       "       [1.000000e+00, 1.403000e+02, 1.968409e+04],\n",
       "       [1.000000e+00, 2.401000e+02, 5.764801e+04],\n",
       "       [1.000000e+00, 2.432000e+02, 5.914624e+04],\n",
       "       [1.000000e+00, 3.800000e+01, 1.444000e+03],\n",
       "       [1.000000e+00, 4.470000e+01, 1.998090e+03],\n",
       "       [1.000000e+00, 2.807000e+02, 7.879249e+04],\n",
       "       [1.000000e+00, 1.210000e+02, 1.464100e+04],\n",
       "       [1.000000e+00, 1.976000e+02, 3.904576e+04],\n",
       "       [1.000000e+00, 1.713000e+02, 2.934369e+04],\n",
       "       [1.000000e+00, 1.878000e+02, 3.526884e+04],\n",
       "       [1.000000e+00, 4.100000e+00, 1.681000e+01],\n",
       "       [1.000000e+00, 9.390000e+01, 8.817210e+03],\n",
       "       [1.000000e+00, 1.498000e+02, 2.244004e+04],\n",
       "       [1.000000e+00, 1.170000e+01, 1.368900e+02],\n",
       "       [1.000000e+00, 1.317000e+02, 1.734489e+04],\n",
       "       [1.000000e+00, 1.725000e+02, 2.975625e+04],\n",
       "       [1.000000e+00, 8.570000e+01, 7.344490e+03],\n",
       "       [1.000000e+00, 1.884000e+02, 3.549456e+04],\n",
       "       [1.000000e+00, 1.635000e+02, 2.673225e+04],\n",
       "       [1.000000e+00, 1.172000e+02, 1.373584e+04],\n",
       "       [1.000000e+00, 2.345000e+02, 5.499025e+04],\n",
       "       [1.000000e+00, 1.790000e+01, 3.204100e+02],\n",
       "       [1.000000e+00, 2.068000e+02, 4.276624e+04],\n",
       "       [1.000000e+00, 2.154000e+02, 4.639716e+04],\n",
       "       [1.000000e+00, 2.843000e+02, 8.082649e+04],\n",
       "       [1.000000e+00, 5.000000e+01, 2.500000e+03],\n",
       "       [1.000000e+00, 1.645000e+02, 2.706025e+04],\n",
       "       [1.000000e+00, 1.960000e+01, 3.841600e+02],\n",
       "       [1.000000e+00, 1.684000e+02, 2.835856e+04],\n",
       "       [1.000000e+00, 2.224000e+02, 4.946176e+04],\n",
       "       [1.000000e+00, 2.769000e+02, 7.667361e+04],\n",
       "       [1.000000e+00, 2.484000e+02, 6.170256e+04],\n",
       "       [1.000000e+00, 1.702000e+02, 2.896804e+04],\n",
       "       [1.000000e+00, 2.767000e+02, 7.656289e+04],\n",
       "       [1.000000e+00, 1.656000e+02, 2.742336e+04],\n",
       "       [1.000000e+00, 1.566000e+02, 2.452356e+04],\n",
       "       [1.000000e+00, 2.185000e+02, 4.774225e+04],\n",
       "       [1.000000e+00, 5.620000e+01, 3.158440e+03],\n",
       "       [1.000000e+00, 2.876000e+02, 8.271376e+04],\n",
       "       [1.000000e+00, 2.538000e+02, 6.441444e+04],\n",
       "       [1.000000e+00, 2.050000e+02, 4.202500e+04],\n",
       "       [1.000000e+00, 1.395000e+02, 1.946025e+04],\n",
       "       [1.000000e+00, 1.911000e+02, 3.651921e+04],\n",
       "       [1.000000e+00, 2.860000e+02, 8.179600e+04],\n",
       "       [1.000000e+00, 1.870000e+01, 3.496900e+02],\n",
       "       [1.000000e+00, 3.950000e+01, 1.560250e+03],\n",
       "       [1.000000e+00, 7.550000e+01, 5.700250e+03],\n",
       "       [1.000000e+00, 1.720000e+01, 2.958400e+02],\n",
       "       [1.000000e+00, 1.668000e+02, 2.782224e+04],\n",
       "       [1.000000e+00, 1.497000e+02, 2.241009e+04],\n",
       "       [1.000000e+00, 3.820000e+01, 1.459240e+03],\n",
       "       [1.000000e+00, 9.420000e+01, 8.873640e+03],\n",
       "       [1.000000e+00, 1.770000e+02, 3.132900e+04],\n",
       "       [1.000000e+00, 2.836000e+02, 8.042896e+04],\n",
       "       [1.000000e+00, 2.321000e+02, 5.387041e+04]])"
      ]
     },
     "execution_count": 37,
     "metadata": {},
     "output_type": "execute_result"
    }
   ],
   "source": [
    "x_poly=poly.fit_transform(x)\n",
    "x_poly"
   ]
  },
  {
   "cell_type": "code",
   "execution_count": 38,
   "metadata": {},
   "outputs": [
    {
     "data": {
      "text/plain": [
       "array([4.57393005])"
      ]
     },
     "execution_count": 38,
     "metadata": {},
     "output_type": "execute_result"
    }
   ],
   "source": [
    "x1[0]"
   ]
  },
  {
   "cell_type": "code",
   "execution_count": 39,
   "metadata": {},
   "outputs": [
    {
     "data": {
      "text/plain": [
       "array([1.000000e+00, 2.301000e+02, 5.294601e+04])"
      ]
     },
     "execution_count": 39,
     "metadata": {},
     "output_type": "execute_result"
    }
   ],
   "source": [
    "x_poly[0]"
   ]
  },
  {
   "cell_type": "code",
   "execution_count": 40,
   "metadata": {},
   "outputs": [
    {
     "data": {
      "text/plain": [
       "array([1.93522681])"
      ]
     },
     "execution_count": 40,
     "metadata": {},
     "output_type": "execute_result"
    }
   ],
   "source": [
    "x1[3]"
   ]
  },
  {
   "cell_type": "code",
   "execution_count": 41,
   "metadata": {},
   "outputs": [
    {
     "data": {
      "text/plain": [
       "array([1.000000e+00, 1.515000e+02, 2.295225e+04])"
      ]
     },
     "execution_count": 41,
     "metadata": {},
     "output_type": "execute_result"
    }
   ],
   "source": [
    "x_poly[3]"
   ]
  },
  {
   "cell_type": "code",
   "execution_count": 42,
   "metadata": {},
   "outputs": [
    {
     "data": {
      "text/plain": [
       "PolynomialFeatures(degree=2, include_bias=True, interaction_only=False,\n",
       "                   order='C')"
      ]
     },
     "execution_count": 42,
     "metadata": {},
     "output_type": "execute_result"
    }
   ],
   "source": [
    "poly.fit(x1,y1)"
   ]
  },
  {
   "cell_type": "code",
   "execution_count": 43,
   "metadata": {},
   "outputs": [
    {
     "data": {
      "text/plain": [
       "PolynomialFeatures(degree=2, include_bias=True, interaction_only=False,\n",
       "                   order='C')"
      ]
     },
     "execution_count": 43,
     "metadata": {},
     "output_type": "execute_result"
    }
   ],
   "source": [
    "poly.fit(x_poly,y)"
   ]
  },
  {
   "cell_type": "code",
   "execution_count": 44,
   "metadata": {},
   "outputs": [
    {
     "data": {
      "text/plain": [
       "LinearRegression(copy_X=True, fit_intercept=True, n_jobs=None, normalize=False)"
      ]
     },
     "execution_count": 44,
     "metadata": {},
     "output_type": "execute_result"
    }
   ],
   "source": [
    "from sklearn.linear_model import LinearRegression\n",
    "lin=LinearRegression()\n",
    "lin"
   ]
  },
  {
   "cell_type": "code",
   "execution_count": 45,
   "metadata": {},
   "outputs": [
    {
     "data": {
      "text/plain": [
       "LinearRegression(copy_X=True, fit_intercept=True, n_jobs=None, normalize=False)"
      ]
     },
     "execution_count": 45,
     "metadata": {},
     "output_type": "execute_result"
    }
   ],
   "source": [
    "lin.fit(x_poly,y)\n"
   ]
  },
  {
   "cell_type": "code",
   "execution_count": 46,
   "metadata": {},
   "outputs": [
    {
     "data": {
      "text/plain": [
       "array([6.11412013])"
      ]
     },
     "execution_count": 46,
     "metadata": {},
     "output_type": "execute_result"
    }
   ],
   "source": [
    "lin.intercept_"
   ]
  },
  {
   "cell_type": "code",
   "execution_count": 47,
   "metadata": {},
   "outputs": [
    {
     "data": {
      "text/plain": [
       "array([[ 0.00000000e+00,  6.72659270e-02, -6.84693373e-05]])"
      ]
     },
     "execution_count": 47,
     "metadata": {},
     "output_type": "execute_result"
    }
   ],
   "source": [
    "lin.coef_"
   ]
  },
  {
   "cell_type": "code",
   "execution_count": 48,
   "metadata": {},
   "outputs": [
    {
     "data": {
      "text/plain": [
       "array([[17.9668317 ],\n",
       "       [ 8.97186747],\n",
       "       [ 7.2508381 ],\n",
       "       [14.73338271],\n",
       "       [16.0376302 ],\n",
       "       [ 6.69415125],\n",
       "       [ 9.75553418],\n",
       "       [13.21023682],\n",
       "       [ 6.68754311],\n",
       "       [16.82055365],\n",
       "       [10.26124099],\n",
       "       [17.39994591],\n",
       "       [ 7.67626542],\n",
       "       [12.02166137],\n",
       "       [16.99088164],\n",
       "       [16.64364353],\n",
       "       [10.36000739],\n",
       "       [19.62094177],\n",
       "       [10.44104727],\n",
       "       [14.5367921 ],\n",
       "       [17.53910978],\n",
       "       [18.22420424],\n",
       "       [ 6.99010027],\n",
       "       [17.90224845],\n",
       "       [10.03903802],\n",
       "       [19.06597753],\n",
       "       [14.32824915],\n",
       "       [18.31754815],\n",
       "       [18.61153218],\n",
       "       [10.52181875],\n",
       "       [19.94229761],\n",
       "       [12.83570504],\n",
       "       [12.00548088],\n",
       "       [19.14989322],\n",
       "       [11.9243936 ],\n",
       "       [19.88222172],\n",
       "       [19.18994102],\n",
       "       [10.75681981],\n",
       "       [ 8.88609225],\n",
       "       [17.89144144],\n",
       "       [16.92779957],\n",
       "       [15.87511333],\n",
       "       [19.96127367],\n",
       "       [17.10043173],\n",
       "       [ 7.75935853],\n",
       "       [15.79311337],\n",
       "       [11.59696333],\n",
       "       [18.31066802],\n",
       "       [17.86256249],\n",
       "       [10.30776859],\n",
       "       [16.82055365],\n",
       "       [12.17743732],\n",
       "       [17.46411886],\n",
       "       [16.11392171],\n",
       "       [19.05972185],\n",
       "       [16.78458317],\n",
       "       [ 6.60151266],\n",
       "       [14.00560305],\n",
       "       [17.25123024],\n",
       "       [17.24738963],\n",
       "       [ 9.51687086],\n",
       "       [19.01577865],\n",
       "       [18.28999477],\n",
       "       [12.30016487],\n",
       "       [13.75588627],\n",
       "       [10.42948657],\n",
       "       [ 8.16505813],\n",
       "       [14.15565118],\n",
       "       [18.22420424],\n",
       "       [17.47916087],\n",
       "       [16.79258619],\n",
       "       [12.67444984],\n",
       "       [ 7.86766955],\n",
       "       [13.67185584],\n",
       "       [17.35060545],\n",
       "       [ 7.23135877],\n",
       "       [ 7.91215318],\n",
       "       [13.22547243],\n",
       "       [ 6.47535957],\n",
       "       [12.99564425],\n",
       "       [10.85358416],\n",
       "       [18.3072259 ],\n",
       "       [10.79101712],\n",
       "       [10.39477163],\n",
       "       [17.35440908],\n",
       "       [16.5541943 ],\n",
       "       [10.8479031 ],\n",
       "       [12.72140143],\n",
       "       [11.51985359],\n",
       "       [12.67444984],\n",
       "       [13.9129876 ],\n",
       "       [ 7.98192046],\n",
       "       [17.51292527],\n",
       "       [18.68094096],\n",
       "       [12.54870331],\n",
       "       [15.27278171],\n",
       "       [16.73242998],\n",
       "       [16.21075963],\n",
       "       [19.8546954 ],\n",
       "       [13.9569197 ],\n",
       "       [17.68744835],\n",
       "       [20.03650692],\n",
       "       [19.58636551],\n",
       "       [16.33598131],\n",
       "       [18.25196577],\n",
       "       [14.08805046],\n",
       "       [ 7.75297497],\n",
       "       [11.63541755],\n",
       "       [ 6.98355375],\n",
       "       [18.82764051],\n",
       "       [17.81181345],\n",
       "       [18.37239199],\n",
       "       [15.8190615 ],\n",
       "       [17.20505254],\n",
       "       [10.95560919],\n",
       "       [10.7796235 ],\n",
       "       [14.15083146],\n",
       "       [10.85358416],\n",
       "       [13.48759807],\n",
       "       [ 7.39330999],\n",
       "       [14.25175804],\n",
       "       [ 7.35451975],\n",
       "       [17.7461703 ],\n",
       "       [13.3569981 ],\n",
       "       [17.94535325],\n",
       "       [11.45907907],\n",
       "       [ 6.63462868],\n",
       "       [11.06844995],\n",
       "       [17.6098438 ],\n",
       "       [ 9.87995533],\n",
       "       [ 6.16117273],\n",
       "       [19.13752425],\n",
       "       [ 6.67432272],\n",
       "       [17.59127751],\n",
       "       [ 8.5030043 ],\n",
       "       [ 9.20333297],\n",
       "       [ 7.79125579],\n",
       "       [19.39565056],\n",
       "       [ 8.87995518],\n",
       "       [16.21075963],\n",
       "       [10.6825565 ],\n",
       "       [16.57458187],\n",
       "       [17.61726072],\n",
       "       [12.40100211],\n",
       "       [11.95145693],\n",
       "       [14.20377308],\n",
       "       [18.31754815],\n",
       "       [18.42348971],\n",
       "       [ 8.57135563],\n",
       "       [ 8.98409917],\n",
       "       [19.60079625],\n",
       "       [13.25083772],\n",
       "       [16.73242998],\n",
       "       [15.62763041],\n",
       "       [16.33182711],\n",
       "       [ 6.38875946],\n",
       "       [11.82668214],\n",
       "       [14.65410132],\n",
       "       [ 6.89175871],\n",
       "       [13.78544958],\n",
       "       [15.68010181],\n",
       "       [11.37593771],\n",
       "       [16.35673176],\n",
       "       [15.28175974],\n",
       "       [13.05720291],\n",
       "       [18.12283402],\n",
       "       [ 7.29624196],\n",
       "       [17.09653771],\n",
       "       [17.426418  ],\n",
       "       [19.70368695],\n",
       "       [ 9.30624313],\n",
       "       [15.32656773],\n",
       "       [ 7.40622912],\n",
       "       [15.50001042],\n",
       "       [17.68744835],\n",
       "       [19.49026404],\n",
       "       [18.59824299],\n",
       "       [15.57935839],\n",
       "       [19.48439177],\n",
       "       [15.37569835],\n",
       "       [14.96885239],\n",
       "       [17.54284495],\n",
       "       [ 9.67820893],\n",
       "       [19.79644439],\n",
       "       [18.77579837],\n",
       "       [17.02621125],\n",
       "       [14.16528652],\n",
       "       [16.46819266],\n",
       "       [19.75165732],\n",
       "       [ 7.34804992],\n",
       "       [ 8.66429496],\n",
       "       [10.80240527],\n",
       "       [ 7.2508381 ],\n",
       "       [15.42910641],\n",
       "       [14.64942538],\n",
       "       [ 8.58376534],\n",
       "       [11.8429982 ],\n",
       "       [15.87511333],\n",
       "       [19.68381942],\n",
       "       [18.0380705 ]])"
      ]
     },
     "execution_count": 48,
     "metadata": {},
     "output_type": "execute_result"
    }
   ],
   "source": [
    "y_predictions=lin.predict(x_poly)\n",
    "y_predictions"
   ]
  },
  {
   "cell_type": "code",
   "execution_count": 52,
   "metadata": {},
   "outputs": [
    {
     "data": {
      "image/png": "[encoded data removed]",
      "text/plain": [
       "<Figure size 432x288 with 1 Axes>"
      ]
     },
     "metadata": {
      "needs_background": "light"
     },
     "output_type": "display_data"
    }
   ],
   "source": [
    "plt.scatter(x,y,c='g',label=\"before polynomial\")\n",
    "plt.plot(x,y_predictions,c='r',label=\"after polynomial Linear Regression\")\n",
    "plt.xlabel(\"x\")\n",
    "plt.ylabel(\"y\")\n",
    "plt.title(\"linear regression with Polynomial features\")\n",
    "plt.legend(\"best\")\n",
    "plt.show()"
   ]
  },
  {
   "cell_type": "code",
   "execution_count": 50,
   "metadata": {},
   "outputs": [],
   "source": [
    "poly=PolynomialFeatures(degree=1)"
   ]
  },
  {
   "cell_type": "code",
   "execution_count": 51,
   "metadata": {},
   "outputs": [
    {
     "data": {
      "text/plain": [
       "array([[1.        , 4.57393005],\n",
       "       [1.        , 5.4345095 ],\n",
       "       [1.        , 1.01058382],\n",
       "       [1.        , 1.93522681],\n",
       "       [1.        , 0.99323159],\n",
       "       [1.        , 2.85047882],\n",
       "       [1.        , 4.88033201],\n",
       "       [1.        , 0.01440217],\n",
       "       [1.        , 4.56188933],\n",
       "       [1.        , 5.62975496],\n",
       "       [1.        , 2.42452585],\n",
       "       [1.        , 0.81893348],\n",
       "       [1.        , 5.58910614],\n",
       "       [1.        , 0.58877755],\n",
       "       [1.        , 1.56137314],\n",
       "       [1.        , 3.49063595],\n",
       "       [1.        , 2.08570144],\n",
       "       [1.        , 2.76558768],\n",
       "       [1.        , 1.93907515],\n",
       "       [1.        , 1.94577914],\n",
       "       [1.        , 5.31678141],\n",
       "       [1.        , 5.17229429],\n",
       "       [1.        , 0.59024893],\n",
       "       [1.        , 3.79723459],\n",
       "       [1.        , 4.88218331],\n",
       "       [1.        , 2.57395349],\n",
       "       [1.        , 2.12551615],\n",
       "       [1.        , 0.54332712],\n",
       "       [1.        , 5.7855498 ],\n",
       "       [1.        , 2.18658699],\n",
       "       [1.        , 0.81292348],\n",
       "       [1.        , 2.25365226],\n",
       "       [1.        , 2.44994666],\n",
       "       [1.        , 1.88885597],\n",
       "       [1.        , 1.73875024],\n",
       "       [1.        , 0.38309256],\n",
       "       [1.        , 3.47721804],\n",
       "       [1.        , 4.46587871],\n",
       "       [1.        , 1.18555972],\n",
       "       [1.        , 5.16458022],\n",
       "       [1.        , 5.91449167],\n",
       "       [1.        , 3.96341164],\n",
       "       [1.        , 3.3470671 ],\n",
       "       [1.        , 3.1602076 ],\n",
       "       [1.        , 5.59013775],\n",
       "       [1.        , 5.60509819],\n",
       "       [1.        , 2.63038105],\n",
       "       [1.        , 1.30723678],\n",
       "       [1.        , 4.81427589],\n",
       "       [1.        , 0.80916297],\n",
       "       [1.        , 3.67071581],\n",
       "       [1.        , 1.01704828],\n",
       "       [1.        , 1.66244714],\n",
       "       [1.        , 1.73317564],\n",
       "       [1.        , 4.97721385],\n",
       "       [1.        , 2.18798416],\n",
       "       [1.        , 4.22991134],\n",
       "       [1.        , 0.23350373],\n",
       "       [1.        , 0.46076455],\n",
       "       [1.        , 1.02531267],\n",
       "       [1.        , 3.41540472],\n",
       "       [1.        , 1.82534736],\n",
       "       [1.        , 2.91684136],\n",
       "       [1.        , 3.93804529],\n",
       "       [1.        , 2.42378447],\n",
       "       [1.        , 5.44105032],\n",
       "       [1.        , 4.33511092],\n",
       "       [1.        , 4.9221277 ],\n",
       "       [1.        , 1.78747765],\n",
       "       [1.        , 5.96331478],\n",
       "       [1.        , 1.41185422],\n",
       "       [1.        , 0.84563289],\n",
       "       [1.        , 5.54209309],\n",
       "       [1.        , 5.52966534],\n",
       "       [1.        , 0.76760494],\n",
       "       [1.        , 1.07931382],\n",
       "       [1.        , 5.36668799],\n",
       "       [1.        , 3.94134463],\n",
       "       [1.        , 5.74001846],\n",
       "       [1.        , 3.24605767],\n",
       "       [1.        , 5.71449865],\n",
       "       [1.        , 0.3898154 ],\n",
       "       [1.        , 2.25855673],\n",
       "       [1.        , 2.95581273],\n",
       "       [1.        , 1.76509856],\n",
       "       [1.        , 2.6069058 ],\n",
       "       [1.        , 3.80588134],\n",
       "       [1.        , 5.16073329],\n",
       "       [1.        , 3.68641483],\n",
       "       [1.        , 5.51818381],\n",
       "       [1.        , 0.00957838],\n",
       "       [1.        , 2.04224889],\n",
       "       [1.        , 2.88251715],\n",
       "       [1.        , 0.3794238 ],\n",
       "       [1.        , 0.69474389],\n",
       "       [1.        , 3.52899014],\n",
       "       [1.        , 4.52611999],\n",
       "       [1.        , 0.84974523],\n",
       "       [1.        , 2.54381089],\n",
       "       [1.        , 4.95528824]])"
      ]
     },
     "execution_count": 51,
     "metadata": {},
     "output_type": "execute_result"
    }
   ],
   "source": [
    "x_poly=poly.fit_transform(x1)\n",
    "x_poly"
   ]
  },
  {
   "cell_type": "code",
   "execution_count": null,
   "metadata": {},
   "outputs": [],
   "source": []
  },
  {
   "cell_type": "code",
   "execution_count": null,
   "metadata": {},
   "outputs": [],
   "source": []
  }
 ],
 "metadata": {
  "kernelspec": {
   "display_name": "Python 3",
   "language": "python",
   "name": "python3"
  },
  "language_info": {
   "codemirror_mode": {
    "name": "ipython",
    "version": 3
   },
   "file_extension": ".py",
   "mimetype": "text/x-python",
   "name": "python",
   "nbconvert_exporter": "python",
   "pygments_lexer": "ipython3",
   "version": "3.7.3"
  }
 },
 "nbformat": 4,
 "nbformat_minor": 2
}
