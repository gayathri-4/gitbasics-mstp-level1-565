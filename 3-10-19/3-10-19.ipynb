{
 "cells": [
  {
   "cell_type": "markdown",
   "metadata": {},
   "source": [
    "## file handling in python\n",
    "* read--->r\n",
    "* write--->w\n",
    "* append--->a\n",
    "* read and write-->r+\n",
    "* write and read--->w+\n",
    "* append and read--->a+\n",
    "* exclusive write-->x"
   ]
  },
  {
   "cell_type": "code",
   "execution_count": null,
   "metadata": {},
   "outputs": [],
   "source": [
    "#file opening\n",
    "#file =open(\"filename.extension\",\"mode\")"
   ]
  },
  {
   "cell_type": "code",
   "execution_count": 11,
   "metadata": {},
   "outputs": [],
   "source": [
    "#creating a file and add content\n",
    "f=open(\"file.txt\",'w')\n",
    "f.write(\"file handling in python\")\n",
    "f.write(\"\\nread and write are modes in file\")\n",
    "f.close()"
   ]
  },
  {
   "cell_type": "code",
   "execution_count": 14,
   "metadata": {},
   "outputs": [
    {
     "name": "stdout",
     "output_type": "stream",
     "text": [
      "file handling in python\n",
      "read and write are modes in file\n"
     ]
    }
   ],
   "source": [
    "#print content of a file\n",
    "f1=open(\"file.txt\",'r')\n",
    "f2=f1.read()\n",
    "print(f2)\n",
    "#f1.close()"
   ]
  },
  {
   "cell_type": "markdown",
   "metadata": {},
   "source": [
    "### file handling using functions"
   ]
  },
  {
   "cell_type": "code",
   "execution_count": 18,
   "metadata": {},
   "outputs": [
    {
     "name": "stdout",
     "output_type": "stream",
     "text": [
      "file handling in python\n",
      "read and write are modes in file\n"
     ]
    }
   ],
   "source": [
    "def read(filefun):\n",
    "    filefun=open(\"file.txt\")\n",
    "    d=filefun.read()\n",
    "    print(d)\n",
    "filefun=\"file.txt\"\n",
    "read(filefun)"
   ]
  },
  {
   "cell_type": "code",
   "execution_count": 23,
   "metadata": {},
   "outputs": [],
   "source": [
    "def write(file):\n",
    "    file=open(\"file.txt\",'w')\n",
    "    file.write(\"mstp apssdc\")\n",
    "file=\"file.txt\"\n",
    "write(file)"
   ]
  },
  {
   "cell_type": "markdown",
   "metadata": {},
   "source": [
    "### add a new content to a file"
   ]
  },
  {
   "cell_type": "code",
   "execution_count": 32,
   "metadata": {},
   "outputs": [],
   "source": [
    "def append(app):\n",
    "    app=open(\"file.txt\",'a')\n",
    "    app.write(\"\\nlevel1 python\")\n",
    "    app.write(\"\\nfile handling\")\n",
    "    app.close()\n",
    "app=\"file.txt\"\n",
    "append(app)"
   ]
  },
  {
   "cell_type": "code",
   "execution_count": 34,
   "metadata": {},
   "outputs": [
    {
     "name": "stdout",
     "output_type": "stream",
     "text": [
      "mstp apssdclevel1 python\n",
      "level1 python\n",
      "file handling\n"
     ]
    }
   ],
   "source": [
    "def read(file1):\n",
    "    file1=open(\"file.txt\",'r')\n",
    "    s=file1.read()\n",
    "    print(s)\n",
    "file1=\"file.txt\"\n",
    "read(file1)"
   ]
  },
  {
   "cell_type": "code",
   "execution_count": 35,
   "metadata": {},
   "outputs": [
    {
     "name": "stdout",
     "output_type": "stream",
     "text": [
      "mstp apssdclevel1 python\n",
      "\n"
     ]
    }
   ],
   "source": [
    "x=open(\"file.txt\",'r')\n",
    "e=x.readline()          #-----display first line\n",
    "print(e)"
   ]
  },
  {
   "cell_type": "code",
   "execution_count": 36,
   "metadata": {},
   "outputs": [
    {
     "name": "stdout",
     "output_type": "stream",
     "text": [
      "['mstp apssdclevel1 python\\n', 'level1 python\\n', 'file handling']\n"
     ]
    }
   ],
   "source": [
    "y=open(\"file.txt\",'r')\n",
    "s=y.readlines()    #----display all data in file\n",
    "print(s)"
   ]
  },
  {
   "cell_type": "code",
   "execution_count": 40,
   "metadata": {},
   "outputs": [
    {
     "name": "stdout",
     "output_type": "stream",
     "text": [
      "['mstp apssdclevel1 python\\n', 'level1 python\\n', 'file handling']\n",
      "mstp apssdclevel1 python\n",
      "\n",
      "level1 python\n",
      "\n",
      "file handling\n"
     ]
    }
   ],
   "source": [
    "s=open(\"file.txt\",'r')\n",
    "y=s.readlines()\n",
    "print(y)\n",
    "for i in y:\n",
    "    print(i)"
   ]
  },
  {
   "cell_type": "code",
   "execution_count": 43,
   "metadata": {},
   "outputs": [
    {
     "name": "stdout",
     "output_type": "stream",
     "text": [
      "['mstp apssdclevel1 python\\n', 'level1 python\\n', 'file handling']\n",
      "mstp apssdclevel1 python\n",
      "\n",
      "level1 python\n",
      "\n",
      "file handling\n"
     ]
    }
   ],
   "source": [
    "s=open(\"file.txt\",'r')\n",
    "def getelement(s):\n",
    "    y=s.readlines()\n",
    "print(y)\n",
    "for i in y:\n",
    "    print(i)\n",
    "getelement(s)\n",
    "    "
   ]
  },
  {
   "cell_type": "code",
   "execution_count": 46,
   "metadata": {},
   "outputs": [
    {
     "name": "stdout",
     "output_type": "stream",
     "text": [
      "mstp apssdclevel1 python\n",
      "\n",
      "level1 python\n",
      "\n",
      "file handling\n"
     ]
    }
   ],
   "source": [
    "def getelement(d):\n",
    "    with open (\"file.txt\",'r') as d:\n",
    "        x=d.readlines()\n",
    "        for i in x:\n",
    "            print(i)\n",
    "d=\"file.txt\"\n",
    "getelement(d)"
   ]
  },
  {
   "cell_type": "markdown",
   "metadata": {},
   "source": [
    "### excercise:\n",
    "* linescount\n",
    "* words count\n",
    "* char count\n",
    "* filelength\n"
   ]
  },
  {
   "cell_type": "code",
   "execution_count": 22,
   "metadata": {},
   "outputs": [
    {
     "name": "stdout",
     "output_type": "stream",
     "text": [
      "3\n",
      "['mstp apssdclevel1 python\\n', 'level1 python\\n', 'file handling']\n"
     ]
    }
   ],
   "source": [
    "def linecount(lc):\n",
    "    c=0\n",
    "    with open (\"file.txt\",'r') as lc:\n",
    "        s=lc.readlines()\n",
    "        for i in s:\n",
    "            c=c+1\n",
    "        print(c)\n",
    "        print(s)\n",
    "lc=\"file.txt\"\n",
    "linecount(lc)"
   ]
  },
  {
   "cell_type": "code",
   "execution_count": 24,
   "metadata": {},
   "outputs": [
    {
     "name": "stdout",
     "output_type": "stream",
     "text": [
      "52\n"
     ]
    }
   ],
   "source": [
    "def charcount(cc):\n",
    "    w=0\n",
    "    with open(\"file.txt\",'r') as cc:\n",
    "        s=cc.read()\n",
    "        for i in s: \n",
    "            w=w+1\n",
    "        print(w)\n",
    "cc=\"file.txt\"\n",
    "charcount(cc)"
   ]
  },
  {
   "cell_type": "code",
   "execution_count": 25,
   "metadata": {},
   "outputs": [
    {
     "name": "stdout",
     "output_type": "stream",
     "text": [
      "52\n"
     ]
    }
   ],
   "source": [
    "def filelength(fl):\n",
    "    with open(\"file.txt\",'r') as fl:\n",
    "        s=fl.read()\n",
    "        print(len(s))\n",
    "fl=\"file.txt\"\n",
    "filelength(fl)"
   ]
  },
  {
   "cell_type": "code",
   "execution_count": 21,
   "metadata": {},
   "outputs": [
    {
     "name": "stdout",
     "output_type": "stream",
     "text": [
      "['mstp', 'apssdclevel1', 'python', 'level1', 'python', 'file', 'handling']\n",
      "7\n"
     ]
    }
   ],
   "source": [
    "def wordcount(wc):\n",
    "    with open(wc,'r') as wc:\n",
    "        f1=wc.read()\n",
    "        f2=f1.split()\n",
    "        print(f2)\n",
    "        print(len(f2))\n",
    "wordcount(\"file.txt\")\n",
    "    "
   ]
  },
  {
   "cell_type": "code",
   "execution_count": null,
   "metadata": {},
   "outputs": [],
   "source": []
  }
 ],
 "metadata": {
  "kernelspec": {
   "display_name": "Python 3",
   "language": "python",
   "name": "python3"
  },
  "language_info": {
   "codemirror_mode": {
    "name": "ipython",
    "version": 3
   },
   "file_extension": ".py",
   "mimetype": "text/x-python",
   "name": "python",
   "nbconvert_exporter": "python",
   "pygments_lexer": "ipython3",
   "version": "3.7.3"
  }
 },
 "nbformat": 4,
 "nbformat_minor": 2
}
